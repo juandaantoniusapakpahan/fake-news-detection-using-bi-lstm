{
 "cells": [
  {
   "cell_type": "markdown",
   "metadata": {},
   "source": [
    "# Implementasi Proyek\n",
    "11S4037 / Pemrosesan Bahasa Alami\n"
   ]
  },
  {
   "cell_type": "code",
   "execution_count": 1,
   "metadata": {},
   "outputs": [
    {
     "name": "stderr",
     "output_type": "stream",
     "text": [
      "C:\\ProgramData\\Anaconda3\\lib\\site-packages\\tensorboard\\compat\\tensorflow_stub\\dtypes.py:541: FutureWarning: Passing (type, 1) or '1type' as a synonym of type is deprecated; in a future version of numpy, it will be understood as (type, (1,)) / '(1,)type'.\n",
      "  _np_qint8 = np.dtype([(\"qint8\", np.int8, 1)])\n",
      "C:\\ProgramData\\Anaconda3\\lib\\site-packages\\tensorboard\\compat\\tensorflow_stub\\dtypes.py:542: FutureWarning: Passing (type, 1) or '1type' as a synonym of type is deprecated; in a future version of numpy, it will be understood as (type, (1,)) / '(1,)type'.\n",
      "  _np_quint8 = np.dtype([(\"quint8\", np.uint8, 1)])\n",
      "C:\\ProgramData\\Anaconda3\\lib\\site-packages\\tensorboard\\compat\\tensorflow_stub\\dtypes.py:543: FutureWarning: Passing (type, 1) or '1type' as a synonym of type is deprecated; in a future version of numpy, it will be understood as (type, (1,)) / '(1,)type'.\n",
      "  _np_qint16 = np.dtype([(\"qint16\", np.int16, 1)])\n",
      "C:\\ProgramData\\Anaconda3\\lib\\site-packages\\tensorboard\\compat\\tensorflow_stub\\dtypes.py:544: FutureWarning: Passing (type, 1) or '1type' as a synonym of type is deprecated; in a future version of numpy, it will be understood as (type, (1,)) / '(1,)type'.\n",
      "  _np_quint16 = np.dtype([(\"quint16\", np.uint16, 1)])\n",
      "C:\\ProgramData\\Anaconda3\\lib\\site-packages\\tensorboard\\compat\\tensorflow_stub\\dtypes.py:545: FutureWarning: Passing (type, 1) or '1type' as a synonym of type is deprecated; in a future version of numpy, it will be understood as (type, (1,)) / '(1,)type'.\n",
      "  _np_qint32 = np.dtype([(\"qint32\", np.int32, 1)])\n",
      "C:\\ProgramData\\Anaconda3\\lib\\site-packages\\tensorboard\\compat\\tensorflow_stub\\dtypes.py:550: FutureWarning: Passing (type, 1) or '1type' as a synonym of type is deprecated; in a future version of numpy, it will be understood as (type, (1,)) / '(1,)type'.\n",
      "  np_resource = np.dtype([(\"resource\", np.ubyte, 1)])\n"
     ]
    }
   ],
   "source": [
    "import pandas as pd \n",
    "import matplotlib.pyplot as plt \n",
    "import numpy as np \n",
    "import tensorflow as tf \n",
    "import re \n",
    "from tensorflow.keras.preprocessing.text import Tokenizer\n",
    "import tensorflow as tf\n",
    "from sklearn.metrics import accuracy_score\n",
    "from sklearn.model_selection import train_test_split\n",
    "from sklearn.metrics import accuracy_score, confusion_matrix, precision_score, recall_score\n",
    "import seaborn as sns \n",
    "from keras.models import Sequential\n",
    "from keras.layers import *\n",
    "from keras.preprocessing.sequence import pad_sequences\n",
    "import gensim\n",
    "import sys\n",
    "import string\n",
    "import logging\n",
    "from sklearn.preprocessing import MinMaxScaler\n",
    "import random\n",
    "from sklearn.manifold import TSNE\n",
    "from keras.callbacks import EarlyStopping\n",
    "from sklearn.svm import LinearSVC\n",
    "from sklearn import metrics \n",
    "plt.style.use('ggplot')\n"
   ]
  },
  {
   "cell_type": "markdown",
   "metadata": {},
   "source": [
    "Tahap selanjutnya adalah meload dataset, dimana dataset yang digunakan sudah dibagi menjadi 2 bagian yakni data train yang digunakan untuk melatih model dan data test yang digunakan untuk melakukan pengujian pada model"
   ]
  },
  {
   "cell_type": "code",
   "execution_count": 2,
   "metadata": {},
   "outputs": [],
   "source": [
    "#LOAD DATASET\n",
    "data_train = pd.read_csv('F:/Catatan Materi/Semester 7/TA 1/Data_set/Dataset IEEE/dataset/fake news detection(FakeNewsNet)/fnn_train.csv')\n",
    "data_test = pd.read_csv('F:/Catatan Materi/Semester 7/TA 1/Data_set/Dataset IEEE/dataset/fake news detection(FakeNewsNet)/fnn_test.csv')\n",
    "datas = pd.read_csv('F:/Catatan Materi/Semester 7/TA 1/Data_set/Dataset IEEE/dataset/fake news detection(FakeNewsNet)/fnn_train.csv')\n"
   ]
  },
  {
   "cell_type": "markdown",
   "metadata": {},
   "source": [
    "Hal ini perlu dilakukan untuk melihat keadaan data seperti atribut apa saja yang terdapat pada data. Syntax yang digunakan adalah data_test.head() atau data_train.head(), agar tidak memakai banyak memori jika dibandingkan menampilkan keseluruhan data. Jadi dengan syntax tersebut, data yang ditampilkan hanyalah 5 data pertama"
   ]
  },
  {
   "cell_type": "code",
   "execution_count": 3,
   "metadata": {},
   "outputs": [
    {
     "data": {
      "text/html": [
       "<div>\n",
       "<style scoped>\n",
       "    .dataframe tbody tr th:only-of-type {\n",
       "        vertical-align: middle;\n",
       "    }\n",
       "\n",
       "    .dataframe tbody tr th {\n",
       "        vertical-align: top;\n",
       "    }\n",
       "\n",
       "    .dataframe thead th {\n",
       "        text-align: right;\n",
       "    }\n",
       "</style>\n",
       "<table border=\"1\" class=\"dataframe\">\n",
       "  <thead>\n",
       "    <tr style=\"text-align: right;\">\n",
       "      <th></th>\n",
       "      <th>id</th>\n",
       "      <th>date</th>\n",
       "      <th>speaker</th>\n",
       "      <th>statement</th>\n",
       "      <th>sources</th>\n",
       "      <th>paragraph_based_content</th>\n",
       "      <th>fullText_based_content</th>\n",
       "      <th>label_fnn</th>\n",
       "    </tr>\n",
       "  </thead>\n",
       "  <tbody>\n",
       "    <tr>\n",
       "      <th>0</th>\n",
       "      <td>3106</td>\n",
       "      <td>2011-01-25T06:00:00-05:00</td>\n",
       "      <td>Joe Wilkinson</td>\n",
       "      <td>A national organization says Georgia has one o...</td>\n",
       "      <td>['http://www.ajc.com/news/georgia-politics-ele...</td>\n",
       "      <td>['A coalition of government watchdog groups la...</td>\n",
       "      <td>A coalition of government watchdog groups last...</td>\n",
       "      <td>fake</td>\n",
       "    </tr>\n",
       "    <tr>\n",
       "      <th>1</th>\n",
       "      <td>5655</td>\n",
       "      <td>2012-04-02T11:42:20-04:00</td>\n",
       "      <td>Rick Scott</td>\n",
       "      <td>Says Barack Obama's health care law \"will be t...</td>\n",
       "      <td>['http://www.youtube.com/watch?v=TaC0mKApf9Q&amp;f...</td>\n",
       "      <td>['As Supreme Court justices embarked on three ...</td>\n",
       "      <td>As Supreme Court justices embarked on three da...</td>\n",
       "      <td>fake</td>\n",
       "    </tr>\n",
       "    <tr>\n",
       "      <th>2</th>\n",
       "      <td>3506</td>\n",
       "      <td>2011-04-01T09:49:05-04:00</td>\n",
       "      <td>J.D. Alexander</td>\n",
       "      <td>Says the Southwest Florida Water Management Di...</td>\n",
       "      <td>['http://www.tampabay.com/news/politics/gubern...</td>\n",
       "      <td>[\"Here's a new one: The Senate budget committe...</td>\n",
       "      <td>Here's a new one: The Senate budget committee ...</td>\n",
       "      <td>fake</td>\n",
       "    </tr>\n",
       "    <tr>\n",
       "      <th>3</th>\n",
       "      <td>3450</td>\n",
       "      <td>2011-03-21T12:20:02-04:00</td>\n",
       "      <td>Paul Ryan</td>\n",
       "      <td>\"The Congressional Budget Office has this econ...</td>\n",
       "      <td>['http://www.cnn.com/2011/POLITICS/03/17/gop.b...</td>\n",
       "      <td>['Recently, House Budget chairman Paul Ryan, R...</td>\n",
       "      <td>Recently, House Budget chairman Paul Ryan, R-W...</td>\n",
       "      <td>real</td>\n",
       "    </tr>\n",
       "    <tr>\n",
       "      <th>4</th>\n",
       "      <td>4776</td>\n",
       "      <td>2011-11-13T07:30:00-05:00</td>\n",
       "      <td>Rodney Frelinghuysen</td>\n",
       "      <td>Says the Treasury Department \"says 41 percent ...</td>\n",
       "      <td>['http://frelinghuysen.house.gov/index.cfm?sec...</td>\n",
       "      <td>['The millionaires’ tax proposal made its late...</td>\n",
       "      <td>The millionaires’ tax proposal made its latest...</td>\n",
       "      <td>fake</td>\n",
       "    </tr>\n",
       "  </tbody>\n",
       "</table>\n",
       "</div>"
      ],
      "text/plain": [
       "     id                       date               speaker  \\\n",
       "0  3106  2011-01-25T06:00:00-05:00         Joe Wilkinson   \n",
       "1  5655  2012-04-02T11:42:20-04:00            Rick Scott   \n",
       "2  3506  2011-04-01T09:49:05-04:00        J.D. Alexander   \n",
       "3  3450  2011-03-21T12:20:02-04:00             Paul Ryan   \n",
       "4  4776  2011-11-13T07:30:00-05:00  Rodney Frelinghuysen   \n",
       "\n",
       "                                           statement  \\\n",
       "0  A national organization says Georgia has one o...   \n",
       "1  Says Barack Obama's health care law \"will be t...   \n",
       "2  Says the Southwest Florida Water Management Di...   \n",
       "3  \"The Congressional Budget Office has this econ...   \n",
       "4  Says the Treasury Department \"says 41 percent ...   \n",
       "\n",
       "                                             sources  \\\n",
       "0  ['http://www.ajc.com/news/georgia-politics-ele...   \n",
       "1  ['http://www.youtube.com/watch?v=TaC0mKApf9Q&f...   \n",
       "2  ['http://www.tampabay.com/news/politics/gubern...   \n",
       "3  ['http://www.cnn.com/2011/POLITICS/03/17/gop.b...   \n",
       "4  ['http://frelinghuysen.house.gov/index.cfm?sec...   \n",
       "\n",
       "                             paragraph_based_content  \\\n",
       "0  ['A coalition of government watchdog groups la...   \n",
       "1  ['As Supreme Court justices embarked on three ...   \n",
       "2  [\"Here's a new one: The Senate budget committe...   \n",
       "3  ['Recently, House Budget chairman Paul Ryan, R...   \n",
       "4  ['The millionaires’ tax proposal made its late...   \n",
       "\n",
       "                              fullText_based_content label_fnn  \n",
       "0  A coalition of government watchdog groups last...      fake  \n",
       "1  As Supreme Court justices embarked on three da...      fake  \n",
       "2  Here's a new one: The Senate budget committee ...      fake  \n",
       "3  Recently, House Budget chairman Paul Ryan, R-W...      real  \n",
       "4  The millionaires’ tax proposal made its latest...      fake  "
      ]
     },
     "execution_count": 3,
     "metadata": {},
     "output_type": "execute_result"
    }
   ],
   "source": [
    "#Menampilkan beberapa data pertama pada data train\n",
    "data_train.head()\n"
   ]
  },
  {
   "cell_type": "code",
   "execution_count": 4,
   "metadata": {
    "scrolled": true
   },
   "outputs": [
    {
     "data": {
      "text/html": [
       "<div>\n",
       "<style scoped>\n",
       "    .dataframe tbody tr th:only-of-type {\n",
       "        vertical-align: middle;\n",
       "    }\n",
       "\n",
       "    .dataframe tbody tr th {\n",
       "        vertical-align: top;\n",
       "    }\n",
       "\n",
       "    .dataframe thead th {\n",
       "        text-align: right;\n",
       "    }\n",
       "</style>\n",
       "<table border=\"1\" class=\"dataframe\">\n",
       "  <thead>\n",
       "    <tr style=\"text-align: right;\">\n",
       "      <th></th>\n",
       "      <th>id</th>\n",
       "      <th>date</th>\n",
       "      <th>speaker</th>\n",
       "      <th>statement</th>\n",
       "      <th>sources</th>\n",
       "      <th>paragraph_based_content</th>\n",
       "      <th>fullText_based_content</th>\n",
       "      <th>label_fnn</th>\n",
       "    </tr>\n",
       "  </thead>\n",
       "  <tbody>\n",
       "    <tr>\n",
       "      <th>0</th>\n",
       "      <td>1678</td>\n",
       "      <td>2010-04-11T16:37:40-04:00</td>\n",
       "      <td>Jon Kyl</td>\n",
       "      <td>\"President Obama himself attempted to filibust...</td>\n",
       "      <td>['http://abcnews.go.com/ThisWeek/video/supreme...</td>\n",
       "      <td>['U.S. Supreme Court Justice John Paul Stevens...</td>\n",
       "      <td>U.S. Supreme Court Justice John Paul Stevens a...</td>\n",
       "      <td>real</td>\n",
       "    </tr>\n",
       "    <tr>\n",
       "      <th>1</th>\n",
       "      <td>1820</td>\n",
       "      <td>2010-05-23T18:11:09-04:00</td>\n",
       "      <td>Michael Steele</td>\n",
       "      <td>In Hawaii, \"they don't have a history of throw...</td>\n",
       "      <td>['http://www.starbulletin.com/news/bulletin/94...</td>\n",
       "      <td>[\"On ABC's This Week, the chairmen of the Repu...</td>\n",
       "      <td>On ABC's This Week, the chairmen of the Republ...</td>\n",
       "      <td>real</td>\n",
       "    </tr>\n",
       "    <tr>\n",
       "      <th>2</th>\n",
       "      <td>1624</td>\n",
       "      <td>2010-03-26T10:24:21-04:00</td>\n",
       "      <td>John Boehner</td>\n",
       "      <td>\"Our national debt ... is on track to exceed t...</td>\n",
       "      <td>['http://www.desmoinesregister.com/article/201...</td>\n",
       "      <td>['Ever since Barack Obama became president and...</td>\n",
       "      <td>Ever since Barack Obama became president and b...</td>\n",
       "      <td>real</td>\n",
       "    </tr>\n",
       "    <tr>\n",
       "      <th>3</th>\n",
       "      <td>1576</td>\n",
       "      <td>2010-03-12T11:45:14-05:00</td>\n",
       "      <td>America's Health Insurance Plans</td>\n",
       "      <td>\"Health insurance companies' costs are only 4 ...</td>\n",
       "      <td>['http://www.youtube.com/watch?v=4O8CxZ1OD58',...</td>\n",
       "      <td>[\"As the battle over health care reform approa...</td>\n",
       "      <td>As the battle over health care reform approach...</td>\n",
       "      <td>real</td>\n",
       "    </tr>\n",
       "    <tr>\n",
       "      <th>4</th>\n",
       "      <td>1770</td>\n",
       "      <td>2010-05-07T11:54:44-04:00</td>\n",
       "      <td>Michael Bloomberg</td>\n",
       "      <td>\"We can prevent terror suspects from boarding ...</td>\n",
       "      <td>['http://www.huffingtonpost.com/michael-bloomb...</td>\n",
       "      <td>['In the wake of a foiled car bomb attempt in ...</td>\n",
       "      <td>In the wake of a foiled car bomb attempt in Ti...</td>\n",
       "      <td>real</td>\n",
       "    </tr>\n",
       "  </tbody>\n",
       "</table>\n",
       "</div>"
      ],
      "text/plain": [
       "     id                       date                           speaker  \\\n",
       "0  1678  2010-04-11T16:37:40-04:00                           Jon Kyl   \n",
       "1  1820  2010-05-23T18:11:09-04:00                    Michael Steele   \n",
       "2  1624  2010-03-26T10:24:21-04:00                      John Boehner   \n",
       "3  1576  2010-03-12T11:45:14-05:00  America's Health Insurance Plans   \n",
       "4  1770  2010-05-07T11:54:44-04:00                 Michael Bloomberg   \n",
       "\n",
       "                                           statement  \\\n",
       "0  \"President Obama himself attempted to filibust...   \n",
       "1  In Hawaii, \"they don't have a history of throw...   \n",
       "2  \"Our national debt ... is on track to exceed t...   \n",
       "3  \"Health insurance companies' costs are only 4 ...   \n",
       "4  \"We can prevent terror suspects from boarding ...   \n",
       "\n",
       "                                             sources  \\\n",
       "0  ['http://abcnews.go.com/ThisWeek/video/supreme...   \n",
       "1  ['http://www.starbulletin.com/news/bulletin/94...   \n",
       "2  ['http://www.desmoinesregister.com/article/201...   \n",
       "3  ['http://www.youtube.com/watch?v=4O8CxZ1OD58',...   \n",
       "4  ['http://www.huffingtonpost.com/michael-bloomb...   \n",
       "\n",
       "                             paragraph_based_content  \\\n",
       "0  ['U.S. Supreme Court Justice John Paul Stevens...   \n",
       "1  [\"On ABC's This Week, the chairmen of the Repu...   \n",
       "2  ['Ever since Barack Obama became president and...   \n",
       "3  [\"As the battle over health care reform approa...   \n",
       "4  ['In the wake of a foiled car bomb attempt in ...   \n",
       "\n",
       "                              fullText_based_content label_fnn  \n",
       "0  U.S. Supreme Court Justice John Paul Stevens a...      real  \n",
       "1  On ABC's This Week, the chairmen of the Republ...      real  \n",
       "2  Ever since Barack Obama became president and b...      real  \n",
       "3  As the battle over health care reform approach...      real  \n",
       "4  In the wake of a foiled car bomb attempt in Ti...      real  "
      ]
     },
     "execution_count": 4,
     "metadata": {},
     "output_type": "execute_result"
    }
   ],
   "source": [
    "#Menampilkan beberapa data pertama pada data test\n",
    "data_test.head()"
   ]
  },
  {
   "cell_type": "markdown",
   "metadata": {},
   "source": [
    "# Data Transformation"
   ]
  },
  {
   "cell_type": "markdown",
   "metadata": {},
   "source": [
    "Data transformation digunakan untuk mentransformasikan isi dari atribut label berita yaitu : Fake menjadi 0 dan Real menjadi 1. Teknik tranformasi yang digunakan adalah encoding categorical value.\n",
    "\n",
    "Tujuan dari tahapan ini adalah mengkonsistenkan semua label pada berita, untuk mengetahui sebaran berita fake maupun real."
   ]
  },
  {
   "cell_type": "code",
   "execution_count": 5,
   "metadata": {},
   "outputs": [],
   "source": [
    "#data transformation use encoding categorial Value\n",
    "data_train.label_fnn.replace({\"fake\":0}, inplace= True)\n",
    "data_train.label_fnn.replace({\"real\":1}, inplace= True)\n",
    "\n",
    "data_test.label_fnn.replace({\"fake\":0}, inplace= True)\n",
    "data_test.label_fnn.replace({\"real\":1}, inplace= True)"
   ]
  },
  {
   "cell_type": "code",
   "execution_count": 6,
   "metadata": {},
   "outputs": [
    {
     "data": {
      "text/html": [
       "<div>\n",
       "<style scoped>\n",
       "    .dataframe tbody tr th:only-of-type {\n",
       "        vertical-align: middle;\n",
       "    }\n",
       "\n",
       "    .dataframe tbody tr th {\n",
       "        vertical-align: top;\n",
       "    }\n",
       "\n",
       "    .dataframe thead th {\n",
       "        text-align: right;\n",
       "    }\n",
       "</style>\n",
       "<table border=\"1\" class=\"dataframe\">\n",
       "  <thead>\n",
       "    <tr style=\"text-align: right;\">\n",
       "      <th></th>\n",
       "      <th>id</th>\n",
       "      <th>date</th>\n",
       "      <th>speaker</th>\n",
       "      <th>statement</th>\n",
       "      <th>sources</th>\n",
       "      <th>paragraph_based_content</th>\n",
       "      <th>fullText_based_content</th>\n",
       "      <th>label_fnn</th>\n",
       "    </tr>\n",
       "  </thead>\n",
       "  <tbody>\n",
       "    <tr>\n",
       "      <th>0</th>\n",
       "      <td>3106</td>\n",
       "      <td>2011-01-25T06:00:00-05:00</td>\n",
       "      <td>Joe Wilkinson</td>\n",
       "      <td>A national organization says Georgia has one o...</td>\n",
       "      <td>['http://www.ajc.com/news/georgia-politics-ele...</td>\n",
       "      <td>['A coalition of government watchdog groups la...</td>\n",
       "      <td>A coalition of government watchdog groups last...</td>\n",
       "      <td>0</td>\n",
       "    </tr>\n",
       "    <tr>\n",
       "      <th>1</th>\n",
       "      <td>5655</td>\n",
       "      <td>2012-04-02T11:42:20-04:00</td>\n",
       "      <td>Rick Scott</td>\n",
       "      <td>Says Barack Obama's health care law \"will be t...</td>\n",
       "      <td>['http://www.youtube.com/watch?v=TaC0mKApf9Q&amp;f...</td>\n",
       "      <td>['As Supreme Court justices embarked on three ...</td>\n",
       "      <td>As Supreme Court justices embarked on three da...</td>\n",
       "      <td>0</td>\n",
       "    </tr>\n",
       "    <tr>\n",
       "      <th>2</th>\n",
       "      <td>3506</td>\n",
       "      <td>2011-04-01T09:49:05-04:00</td>\n",
       "      <td>J.D. Alexander</td>\n",
       "      <td>Says the Southwest Florida Water Management Di...</td>\n",
       "      <td>['http://www.tampabay.com/news/politics/gubern...</td>\n",
       "      <td>[\"Here's a new one: The Senate budget committe...</td>\n",
       "      <td>Here's a new one: The Senate budget committee ...</td>\n",
       "      <td>0</td>\n",
       "    </tr>\n",
       "    <tr>\n",
       "      <th>3</th>\n",
       "      <td>3450</td>\n",
       "      <td>2011-03-21T12:20:02-04:00</td>\n",
       "      <td>Paul Ryan</td>\n",
       "      <td>\"The Congressional Budget Office has this econ...</td>\n",
       "      <td>['http://www.cnn.com/2011/POLITICS/03/17/gop.b...</td>\n",
       "      <td>['Recently, House Budget chairman Paul Ryan, R...</td>\n",
       "      <td>Recently, House Budget chairman Paul Ryan, R-W...</td>\n",
       "      <td>1</td>\n",
       "    </tr>\n",
       "    <tr>\n",
       "      <th>4</th>\n",
       "      <td>4776</td>\n",
       "      <td>2011-11-13T07:30:00-05:00</td>\n",
       "      <td>Rodney Frelinghuysen</td>\n",
       "      <td>Says the Treasury Department \"says 41 percent ...</td>\n",
       "      <td>['http://frelinghuysen.house.gov/index.cfm?sec...</td>\n",
       "      <td>['The millionaires’ tax proposal made its late...</td>\n",
       "      <td>The millionaires’ tax proposal made its latest...</td>\n",
       "      <td>0</td>\n",
       "    </tr>\n",
       "  </tbody>\n",
       "</table>\n",
       "</div>"
      ],
      "text/plain": [
       "     id                       date               speaker  \\\n",
       "0  3106  2011-01-25T06:00:00-05:00         Joe Wilkinson   \n",
       "1  5655  2012-04-02T11:42:20-04:00            Rick Scott   \n",
       "2  3506  2011-04-01T09:49:05-04:00        J.D. Alexander   \n",
       "3  3450  2011-03-21T12:20:02-04:00             Paul Ryan   \n",
       "4  4776  2011-11-13T07:30:00-05:00  Rodney Frelinghuysen   \n",
       "\n",
       "                                           statement  \\\n",
       "0  A national organization says Georgia has one o...   \n",
       "1  Says Barack Obama's health care law \"will be t...   \n",
       "2  Says the Southwest Florida Water Management Di...   \n",
       "3  \"The Congressional Budget Office has this econ...   \n",
       "4  Says the Treasury Department \"says 41 percent ...   \n",
       "\n",
       "                                             sources  \\\n",
       "0  ['http://www.ajc.com/news/georgia-politics-ele...   \n",
       "1  ['http://www.youtube.com/watch?v=TaC0mKApf9Q&f...   \n",
       "2  ['http://www.tampabay.com/news/politics/gubern...   \n",
       "3  ['http://www.cnn.com/2011/POLITICS/03/17/gop.b...   \n",
       "4  ['http://frelinghuysen.house.gov/index.cfm?sec...   \n",
       "\n",
       "                             paragraph_based_content  \\\n",
       "0  ['A coalition of government watchdog groups la...   \n",
       "1  ['As Supreme Court justices embarked on three ...   \n",
       "2  [\"Here's a new one: The Senate budget committe...   \n",
       "3  ['Recently, House Budget chairman Paul Ryan, R...   \n",
       "4  ['The millionaires’ tax proposal made its late...   \n",
       "\n",
       "                              fullText_based_content  label_fnn  \n",
       "0  A coalition of government watchdog groups last...          0  \n",
       "1  As Supreme Court justices embarked on three da...          0  \n",
       "2  Here's a new one: The Senate budget committee ...          0  \n",
       "3  Recently, House Budget chairman Paul Ryan, R-W...          1  \n",
       "4  The millionaires’ tax proposal made its latest...          0  "
      ]
     },
     "execution_count": 6,
     "metadata": {},
     "output_type": "execute_result"
    }
   ],
   "source": [
    "#Menampilkan beberapa data pertama pada data train yang labelnya sudah ditransformasi\n",
    "data_train.head()"
   ]
  },
  {
   "cell_type": "markdown",
   "metadata": {},
   "source": [
    "Hasil dari tahapan tranformasi ini adalah label fnn yang sudah berubah sesuai dengan aturan transformasi yang telah didefenisikan sebelumnya."
   ]
  },
  {
   "cell_type": "code",
   "execution_count": 7,
   "metadata": {},
   "outputs": [
    {
     "data": {
      "text/html": [
       "<div>\n",
       "<style scoped>\n",
       "    .dataframe tbody tr th:only-of-type {\n",
       "        vertical-align: middle;\n",
       "    }\n",
       "\n",
       "    .dataframe tbody tr th {\n",
       "        vertical-align: top;\n",
       "    }\n",
       "\n",
       "    .dataframe thead th {\n",
       "        text-align: right;\n",
       "    }\n",
       "</style>\n",
       "<table border=\"1\" class=\"dataframe\">\n",
       "  <thead>\n",
       "    <tr style=\"text-align: right;\">\n",
       "      <th></th>\n",
       "      <th>id</th>\n",
       "      <th>date</th>\n",
       "      <th>speaker</th>\n",
       "      <th>statement</th>\n",
       "      <th>sources</th>\n",
       "      <th>paragraph_based_content</th>\n",
       "      <th>fullText_based_content</th>\n",
       "      <th>label_fnn</th>\n",
       "    </tr>\n",
       "  </thead>\n",
       "  <tbody>\n",
       "    <tr>\n",
       "      <th>0</th>\n",
       "      <td>1678</td>\n",
       "      <td>2010-04-11T16:37:40-04:00</td>\n",
       "      <td>Jon Kyl</td>\n",
       "      <td>\"President Obama himself attempted to filibust...</td>\n",
       "      <td>['http://abcnews.go.com/ThisWeek/video/supreme...</td>\n",
       "      <td>['U.S. Supreme Court Justice John Paul Stevens...</td>\n",
       "      <td>U.S. Supreme Court Justice John Paul Stevens a...</td>\n",
       "      <td>1</td>\n",
       "    </tr>\n",
       "    <tr>\n",
       "      <th>1</th>\n",
       "      <td>1820</td>\n",
       "      <td>2010-05-23T18:11:09-04:00</td>\n",
       "      <td>Michael Steele</td>\n",
       "      <td>In Hawaii, \"they don't have a history of throw...</td>\n",
       "      <td>['http://www.starbulletin.com/news/bulletin/94...</td>\n",
       "      <td>[\"On ABC's This Week, the chairmen of the Repu...</td>\n",
       "      <td>On ABC's This Week, the chairmen of the Republ...</td>\n",
       "      <td>1</td>\n",
       "    </tr>\n",
       "    <tr>\n",
       "      <th>2</th>\n",
       "      <td>1624</td>\n",
       "      <td>2010-03-26T10:24:21-04:00</td>\n",
       "      <td>John Boehner</td>\n",
       "      <td>\"Our national debt ... is on track to exceed t...</td>\n",
       "      <td>['http://www.desmoinesregister.com/article/201...</td>\n",
       "      <td>['Ever since Barack Obama became president and...</td>\n",
       "      <td>Ever since Barack Obama became president and b...</td>\n",
       "      <td>1</td>\n",
       "    </tr>\n",
       "    <tr>\n",
       "      <th>3</th>\n",
       "      <td>1576</td>\n",
       "      <td>2010-03-12T11:45:14-05:00</td>\n",
       "      <td>America's Health Insurance Plans</td>\n",
       "      <td>\"Health insurance companies' costs are only 4 ...</td>\n",
       "      <td>['http://www.youtube.com/watch?v=4O8CxZ1OD58',...</td>\n",
       "      <td>[\"As the battle over health care reform approa...</td>\n",
       "      <td>As the battle over health care reform approach...</td>\n",
       "      <td>1</td>\n",
       "    </tr>\n",
       "    <tr>\n",
       "      <th>4</th>\n",
       "      <td>1770</td>\n",
       "      <td>2010-05-07T11:54:44-04:00</td>\n",
       "      <td>Michael Bloomberg</td>\n",
       "      <td>\"We can prevent terror suspects from boarding ...</td>\n",
       "      <td>['http://www.huffingtonpost.com/michael-bloomb...</td>\n",
       "      <td>['In the wake of a foiled car bomb attempt in ...</td>\n",
       "      <td>In the wake of a foiled car bomb attempt in Ti...</td>\n",
       "      <td>1</td>\n",
       "    </tr>\n",
       "  </tbody>\n",
       "</table>\n",
       "</div>"
      ],
      "text/plain": [
       "     id                       date                           speaker  \\\n",
       "0  1678  2010-04-11T16:37:40-04:00                           Jon Kyl   \n",
       "1  1820  2010-05-23T18:11:09-04:00                    Michael Steele   \n",
       "2  1624  2010-03-26T10:24:21-04:00                      John Boehner   \n",
       "3  1576  2010-03-12T11:45:14-05:00  America's Health Insurance Plans   \n",
       "4  1770  2010-05-07T11:54:44-04:00                 Michael Bloomberg   \n",
       "\n",
       "                                           statement  \\\n",
       "0  \"President Obama himself attempted to filibust...   \n",
       "1  In Hawaii, \"they don't have a history of throw...   \n",
       "2  \"Our national debt ... is on track to exceed t...   \n",
       "3  \"Health insurance companies' costs are only 4 ...   \n",
       "4  \"We can prevent terror suspects from boarding ...   \n",
       "\n",
       "                                             sources  \\\n",
       "0  ['http://abcnews.go.com/ThisWeek/video/supreme...   \n",
       "1  ['http://www.starbulletin.com/news/bulletin/94...   \n",
       "2  ['http://www.desmoinesregister.com/article/201...   \n",
       "3  ['http://www.youtube.com/watch?v=4O8CxZ1OD58',...   \n",
       "4  ['http://www.huffingtonpost.com/michael-bloomb...   \n",
       "\n",
       "                             paragraph_based_content  \\\n",
       "0  ['U.S. Supreme Court Justice John Paul Stevens...   \n",
       "1  [\"On ABC's This Week, the chairmen of the Repu...   \n",
       "2  ['Ever since Barack Obama became president and...   \n",
       "3  [\"As the battle over health care reform approa...   \n",
       "4  ['In the wake of a foiled car bomb attempt in ...   \n",
       "\n",
       "                              fullText_based_content  label_fnn  \n",
       "0  U.S. Supreme Court Justice John Paul Stevens a...          1  \n",
       "1  On ABC's This Week, the chairmen of the Republ...          1  \n",
       "2  Ever since Barack Obama became president and b...          1  \n",
       "3  As the battle over health care reform approach...          1  \n",
       "4  In the wake of a foiled car bomb attempt in Ti...          1  "
      ]
     },
     "execution_count": 7,
     "metadata": {},
     "output_type": "execute_result"
    }
   ],
   "source": [
    "#Menampilkan beberapa data pertama pada data test yang labelnya sudah ditransformasi\n",
    "data_test.head()"
   ]
  },
  {
   "cell_type": "markdown",
   "metadata": {},
   "source": [
    "# Visualisasi sebaran fake news and real news pada dataset"
   ]
  },
  {
   "cell_type": "code",
   "execution_count": 8,
   "metadata": {},
   "outputs": [
    {
     "data": {
      "text/plain": [
       "Text(0.5, 1.0, 'Distribution of Fake News and Real News')"
      ]
     },
     "execution_count": 8,
     "metadata": {},
     "output_type": "execute_result"
    },
    {
     "data": {
      "image/png": "[encoded data removed]",
      "text/plain": [
       "<Figure size 432x288 with 1 Axes>"
      ]
     },
     "metadata": {},
     "output_type": "display_data"
    }
   ],
   "source": [
    "#visualisasi sebaran dataset fake dan true pada train dataset\n",
    "label = data_train['label_fnn']\n",
    "sns.set_style('whitegrid')\n",
    "sns.countplot(label)\n",
    "plt.title('Distribution of Fake News and Real News', size=15)"
   ]
  },
  {
   "cell_type": "markdown",
   "metadata": {},
   "source": [
    "Hasil tahapan ini diketahui bahwa jumlah berita pada data train dengan label fake dan label real (distribusi berita) adalah seimbang."
   ]
  },
  {
   "cell_type": "code",
   "execution_count": 9,
   "metadata": {},
   "outputs": [
    {
     "data": {
      "text/plain": [
       "Text(0.5, 1.0, 'Distribution of Fake News and Real News')"
      ]
     },
     "execution_count": 9,
     "metadata": {},
     "output_type": "execute_result"
    },
    {
     "data": {
      "image/png": "[encoded data removed]",
      "text/plain": [
       "<Figure size 432x288 with 1 Axes>"
      ]
     },
     "metadata": {},
     "output_type": "display_data"
    }
   ],
   "source": [
    "#visualisasi sebaran dataset fake dan true pada test dataset\n",
    "label = data_test['label_fnn']\n",
    "sns.set_style('whitegrid')\n",
    "sns.countplot(label)\n",
    "plt.title('Distribution of Fake News and Real News', size=15)"
   ]
  },
  {
   "cell_type": "markdown",
   "metadata": {},
   "source": [
    "Hasil tahapan ini diketahui bahwa jumlah berita pada data test dengan label fake dan label real (distribusi berita) adalah seimbang."
   ]
  },
  {
   "cell_type": "code",
   "execution_count": 10,
   "metadata": {},
   "outputs": [],
   "source": [
    "data = pd.read_csv('F:/Catatan Materi/Semester 7/TA 1/Data_set/Dataset IEEE/dataset/fake news detection(FakeNewsNet)/fnn_train.csv')\n",
    "data = data.drop(['id','date','speaker','sources','paragraph_based_content','fullText_based_content'], axis = 1)\n",
    "data.label_fnn.replace({\"fake\":0}, inplace= True)\n",
    "data.label_fnn.replace({\"real\":1}, inplace= True)"
   ]
  },
  {
   "cell_type": "markdown",
   "metadata": {},
   "source": [
    "# Data Reduction"
   ]
  },
  {
   "cell_type": "markdown",
   "metadata": {},
   "source": [
    "Data Reduction digunakan untuk mengurangi atribut yang tidak diperlukan dengan cara menghapusnya untuk dapat dilakukan pembangunan model. Atribut pada data terdiri dari id, date, speaker, sources, paragraph_based_content, fullText_based_content, statement dan label_fnn.\n",
    "\n",
    "Syntax yang digunakan adalah drop.\n"
   ]
  },
  {
   "cell_type": "code",
   "execution_count": 11,
   "metadata": {},
   "outputs": [],
   "source": [
    "#dimensional reduction atau pengurangan dimensi pada data train\n",
    "data_train = data_train.drop(['id','date','speaker','sources','paragraph_based_content','fullText_based_content'], axis = 1)"
   ]
  },
  {
   "cell_type": "code",
   "execution_count": 12,
   "metadata": {},
   "outputs": [],
   "source": [
    "#dimensional reduction atau pengurangan dimensi pada data test\n",
    "data_test = data_test.drop(['id','date','speaker','sources','paragraph_based_content','fullText_based_content'], axis = 1)"
   ]
  },
  {
   "cell_type": "markdown",
   "metadata": {},
   "source": [
    "Hasil dari data reduction adalah atribut statement dan label fnn."
   ]
  },
  {
   "cell_type": "code",
   "execution_count": 13,
   "metadata": {},
   "outputs": [
    {
     "data": {
      "text/html": [
       "<div>\n",
       "<style scoped>\n",
       "    .dataframe tbody tr th:only-of-type {\n",
       "        vertical-align: middle;\n",
       "    }\n",
       "\n",
       "    .dataframe tbody tr th {\n",
       "        vertical-align: top;\n",
       "    }\n",
       "\n",
       "    .dataframe thead th {\n",
       "        text-align: right;\n",
       "    }\n",
       "</style>\n",
       "<table border=\"1\" class=\"dataframe\">\n",
       "  <thead>\n",
       "    <tr style=\"text-align: right;\">\n",
       "      <th></th>\n",
       "      <th>statement</th>\n",
       "      <th>label_fnn</th>\n",
       "    </tr>\n",
       "  </thead>\n",
       "  <tbody>\n",
       "    <tr>\n",
       "      <th>0</th>\n",
       "      <td>A national organization says Georgia has one o...</td>\n",
       "      <td>0</td>\n",
       "    </tr>\n",
       "    <tr>\n",
       "      <th>1</th>\n",
       "      <td>Says Barack Obama's health care law \"will be t...</td>\n",
       "      <td>0</td>\n",
       "    </tr>\n",
       "    <tr>\n",
       "      <th>2</th>\n",
       "      <td>Says the Southwest Florida Water Management Di...</td>\n",
       "      <td>0</td>\n",
       "    </tr>\n",
       "    <tr>\n",
       "      <th>3</th>\n",
       "      <td>\"The Congressional Budget Office has this econ...</td>\n",
       "      <td>1</td>\n",
       "    </tr>\n",
       "    <tr>\n",
       "      <th>4</th>\n",
       "      <td>Says the Treasury Department \"says 41 percent ...</td>\n",
       "      <td>0</td>\n",
       "    </tr>\n",
       "  </tbody>\n",
       "</table>\n",
       "</div>"
      ],
      "text/plain": [
       "                                           statement  label_fnn\n",
       "0  A national organization says Georgia has one o...          0\n",
       "1  Says Barack Obama's health care law \"will be t...          0\n",
       "2  Says the Southwest Florida Water Management Di...          0\n",
       "3  \"The Congressional Budget Office has this econ...          1\n",
       "4  Says the Treasury Department \"says 41 percent ...          0"
      ]
     },
     "execution_count": 13,
     "metadata": {},
     "output_type": "execute_result"
    }
   ],
   "source": [
    "data_train.head()"
   ]
  },
  {
   "cell_type": "code",
   "execution_count": 14,
   "metadata": {},
   "outputs": [
    {
     "data": {
      "text/html": [
       "<div>\n",
       "<style scoped>\n",
       "    .dataframe tbody tr th:only-of-type {\n",
       "        vertical-align: middle;\n",
       "    }\n",
       "\n",
       "    .dataframe tbody tr th {\n",
       "        vertical-align: top;\n",
       "    }\n",
       "\n",
       "    .dataframe thead th {\n",
       "        text-align: right;\n",
       "    }\n",
       "</style>\n",
       "<table border=\"1\" class=\"dataframe\">\n",
       "  <thead>\n",
       "    <tr style=\"text-align: right;\">\n",
       "      <th></th>\n",
       "      <th>statement</th>\n",
       "      <th>label_fnn</th>\n",
       "    </tr>\n",
       "  </thead>\n",
       "  <tbody>\n",
       "    <tr>\n",
       "      <th>0</th>\n",
       "      <td>\"President Obama himself attempted to filibust...</td>\n",
       "      <td>1</td>\n",
       "    </tr>\n",
       "    <tr>\n",
       "      <th>1</th>\n",
       "      <td>In Hawaii, \"they don't have a history of throw...</td>\n",
       "      <td>1</td>\n",
       "    </tr>\n",
       "    <tr>\n",
       "      <th>2</th>\n",
       "      <td>\"Our national debt ... is on track to exceed t...</td>\n",
       "      <td>1</td>\n",
       "    </tr>\n",
       "    <tr>\n",
       "      <th>3</th>\n",
       "      <td>\"Health insurance companies' costs are only 4 ...</td>\n",
       "      <td>1</td>\n",
       "    </tr>\n",
       "    <tr>\n",
       "      <th>4</th>\n",
       "      <td>\"We can prevent terror suspects from boarding ...</td>\n",
       "      <td>1</td>\n",
       "    </tr>\n",
       "  </tbody>\n",
       "</table>\n",
       "</div>"
      ],
      "text/plain": [
       "                                           statement  label_fnn\n",
       "0  \"President Obama himself attempted to filibust...          1\n",
       "1  In Hawaii, \"they don't have a history of throw...          1\n",
       "2  \"Our national debt ... is on track to exceed t...          1\n",
       "3  \"Health insurance companies' costs are only 4 ...          1\n",
       "4  \"We can prevent terror suspects from boarding ...          1"
      ]
     },
     "execution_count": 14,
     "metadata": {},
     "output_type": "execute_result"
    }
   ],
   "source": [
    "data_test.head()"
   ]
  },
  {
   "cell_type": "markdown",
   "metadata": {},
   "source": [
    "# Cleaning"
   ]
  },
  {
   "cell_type": "code",
   "execution_count": 15,
   "metadata": {},
   "outputs": [
    {
     "name": "stdout",
     "output_type": "stream",
     "text": [
      "statement 0\n",
      "label_fnn 0\n"
     ]
    }
   ],
   "source": [
    "#pada tahap ini dilakukan penghapusan baris yang terdapat nilai yang kosong\n",
    "for col in data_train.columns:\n",
    "    print(col, data_train[col].isnull().sum())"
   ]
  },
  {
   "cell_type": "code",
   "execution_count": 16,
   "metadata": {},
   "outputs": [
    {
     "name": "stdout",
     "output_type": "stream",
     "text": [
      "statement 0\n",
      "label_fnn 0\n"
     ]
    }
   ],
   "source": [
    "for col in data_test.columns:\n",
    "    print(col, data_test[col].isnull().sum())"
   ]
  },
  {
   "cell_type": "markdown",
   "metadata": {},
   "source": [
    "# Punctuation Removal"
   ]
  },
  {
   "cell_type": "markdown",
   "metadata": {},
   "source": [
    "Punctuation Removal dilakukan untuk menghapus semua tanda baca pada atribut statement. Tujuan nya adalah untuk mendapatkan data yang lebih bersih dan siap diproses pada tahapan selanjutnya.\n"
   ]
  },
  {
   "cell_type": "code",
   "execution_count": 17,
   "metadata": {},
   "outputs": [],
   "source": [
    "# punctuation removal\n",
    "data_train[\"statement\"] = data_train['statement'].str.replace(r'[^\\w\\s]+', '')\n",
    "data_test[\"statement\"] = data_test['statement'].str.replace(r'[^\\w\\s]+', '')"
   ]
  },
  {
   "cell_type": "code",
   "execution_count": 18,
   "metadata": {},
   "outputs": [
    {
     "data": {
      "text/html": [
       "<div>\n",
       "<style scoped>\n",
       "    .dataframe tbody tr th:only-of-type {\n",
       "        vertical-align: middle;\n",
       "    }\n",
       "\n",
       "    .dataframe tbody tr th {\n",
       "        vertical-align: top;\n",
       "    }\n",
       "\n",
       "    .dataframe thead th {\n",
       "        text-align: right;\n",
       "    }\n",
       "</style>\n",
       "<table border=\"1\" class=\"dataframe\">\n",
       "  <thead>\n",
       "    <tr style=\"text-align: right;\">\n",
       "      <th></th>\n",
       "      <th>statement</th>\n",
       "      <th>label_fnn</th>\n",
       "    </tr>\n",
       "  </thead>\n",
       "  <tbody>\n",
       "    <tr>\n",
       "      <th>0</th>\n",
       "      <td>A national organization says Georgia has one o...</td>\n",
       "      <td>0</td>\n",
       "    </tr>\n",
       "    <tr>\n",
       "      <th>1</th>\n",
       "      <td>Says Barack Obamas health care law will be the...</td>\n",
       "      <td>0</td>\n",
       "    </tr>\n",
       "    <tr>\n",
       "      <th>2</th>\n",
       "      <td>Says the Southwest Florida Water Management Di...</td>\n",
       "      <td>0</td>\n",
       "    </tr>\n",
       "    <tr>\n",
       "      <th>3</th>\n",
       "      <td>The Congressional Budget Office has this econo...</td>\n",
       "      <td>1</td>\n",
       "    </tr>\n",
       "    <tr>\n",
       "      <th>4</th>\n",
       "      <td>Says the Treasury Department says 41 percent o...</td>\n",
       "      <td>0</td>\n",
       "    </tr>\n",
       "  </tbody>\n",
       "</table>\n",
       "</div>"
      ],
      "text/plain": [
       "                                           statement  label_fnn\n",
       "0  A national organization says Georgia has one o...          0\n",
       "1  Says Barack Obamas health care law will be the...          0\n",
       "2  Says the Southwest Florida Water Management Di...          0\n",
       "3  The Congressional Budget Office has this econo...          1\n",
       "4  Says the Treasury Department says 41 percent o...          0"
      ]
     },
     "execution_count": 18,
     "metadata": {},
     "output_type": "execute_result"
    }
   ],
   "source": [
    "#menampilkan hasil punctuation removal pada data train\n",
    "data_train.head()"
   ]
  },
  {
   "cell_type": "code",
   "execution_count": 19,
   "metadata": {},
   "outputs": [
    {
     "data": {
      "text/html": [
       "<div>\n",
       "<style scoped>\n",
       "    .dataframe tbody tr th:only-of-type {\n",
       "        vertical-align: middle;\n",
       "    }\n",
       "\n",
       "    .dataframe tbody tr th {\n",
       "        vertical-align: top;\n",
       "    }\n",
       "\n",
       "    .dataframe thead th {\n",
       "        text-align: right;\n",
       "    }\n",
       "</style>\n",
       "<table border=\"1\" class=\"dataframe\">\n",
       "  <thead>\n",
       "    <tr style=\"text-align: right;\">\n",
       "      <th></th>\n",
       "      <th>statement</th>\n",
       "      <th>label_fnn</th>\n",
       "    </tr>\n",
       "  </thead>\n",
       "  <tbody>\n",
       "    <tr>\n",
       "      <th>0</th>\n",
       "      <td>President Obama himself attempted to filibuste...</td>\n",
       "      <td>1</td>\n",
       "    </tr>\n",
       "    <tr>\n",
       "      <th>1</th>\n",
       "      <td>In Hawaii they dont have a history of throwing...</td>\n",
       "      <td>1</td>\n",
       "    </tr>\n",
       "    <tr>\n",
       "      <th>2</th>\n",
       "      <td>Our national debt  is on track to exceed the s...</td>\n",
       "      <td>1</td>\n",
       "    </tr>\n",
       "    <tr>\n",
       "      <th>3</th>\n",
       "      <td>Health insurance companies costs are only 4 pe...</td>\n",
       "      <td>1</td>\n",
       "    </tr>\n",
       "    <tr>\n",
       "      <th>4</th>\n",
       "      <td>We can prevent terror suspects from boarding a...</td>\n",
       "      <td>1</td>\n",
       "    </tr>\n",
       "  </tbody>\n",
       "</table>\n",
       "</div>"
      ],
      "text/plain": [
       "                                           statement  label_fnn\n",
       "0  President Obama himself attempted to filibuste...          1\n",
       "1  In Hawaii they dont have a history of throwing...          1\n",
       "2  Our national debt  is on track to exceed the s...          1\n",
       "3  Health insurance companies costs are only 4 pe...          1\n",
       "4  We can prevent terror suspects from boarding a...          1"
      ]
     },
     "execution_count": 19,
     "metadata": {},
     "output_type": "execute_result"
    }
   ],
   "source": [
    "##menampilkan hasil punctuation removal pada data test\n",
    "data_test.head()"
   ]
  },
  {
   "cell_type": "markdown",
   "metadata": {},
   "source": [
    "Hasil dari Punctuation removal berupa data tanpa tanda baca dan lebih mudah untuk ditokenisasi."
   ]
  },
  {
   "cell_type": "markdown",
   "metadata": {},
   "source": [
    "# Remove number"
   ]
  },
  {
   "cell_type": "code",
   "execution_count": 20,
   "metadata": {},
   "outputs": [],
   "source": [
    "data_train[\"statement\"] = data_train['statement'].str.replace('\\d+', '')\n",
    "data_test[\"statement\"] = data_test['statement'].str.replace('\\d+', '')"
   ]
  },
  {
   "cell_type": "code",
   "execution_count": 21,
   "metadata": {},
   "outputs": [
    {
     "data": {
      "text/html": [
       "<div>\n",
       "<style scoped>\n",
       "    .dataframe tbody tr th:only-of-type {\n",
       "        vertical-align: middle;\n",
       "    }\n",
       "\n",
       "    .dataframe tbody tr th {\n",
       "        vertical-align: top;\n",
       "    }\n",
       "\n",
       "    .dataframe thead th {\n",
       "        text-align: right;\n",
       "    }\n",
       "</style>\n",
       "<table border=\"1\" class=\"dataframe\">\n",
       "  <thead>\n",
       "    <tr style=\"text-align: right;\">\n",
       "      <th></th>\n",
       "      <th>statement</th>\n",
       "      <th>label_fnn</th>\n",
       "    </tr>\n",
       "  </thead>\n",
       "  <tbody>\n",
       "    <tr>\n",
       "      <th>0</th>\n",
       "      <td>A national organization says Georgia has one o...</td>\n",
       "      <td>0</td>\n",
       "    </tr>\n",
       "    <tr>\n",
       "      <th>1</th>\n",
       "      <td>Says Barack Obamas health care law will be the...</td>\n",
       "      <td>0</td>\n",
       "    </tr>\n",
       "    <tr>\n",
       "      <th>2</th>\n",
       "      <td>Says the Southwest Florida Water Management Di...</td>\n",
       "      <td>0</td>\n",
       "    </tr>\n",
       "    <tr>\n",
       "      <th>3</th>\n",
       "      <td>The Congressional Budget Office has this econo...</td>\n",
       "      <td>1</td>\n",
       "    </tr>\n",
       "    <tr>\n",
       "      <th>4</th>\n",
       "      <td>Says the Treasury Department says  percent of ...</td>\n",
       "      <td>0</td>\n",
       "    </tr>\n",
       "  </tbody>\n",
       "</table>\n",
       "</div>"
      ],
      "text/plain": [
       "                                           statement  label_fnn\n",
       "0  A national organization says Georgia has one o...          0\n",
       "1  Says Barack Obamas health care law will be the...          0\n",
       "2  Says the Southwest Florida Water Management Di...          0\n",
       "3  The Congressional Budget Office has this econo...          1\n",
       "4  Says the Treasury Department says  percent of ...          0"
      ]
     },
     "execution_count": 21,
     "metadata": {},
     "output_type": "execute_result"
    }
   ],
   "source": [
    "data_train.head()"
   ]
  },
  {
   "cell_type": "markdown",
   "metadata": {},
   "source": [
    "# Tokenization"
   ]
  },
  {
   "cell_type": "markdown",
   "metadata": {},
   "source": [
    "Proses tokenisasi dilakukan untuk memecah setiap berita menjadi setiap token dan lebih mudah untuk di proses dalam tahapan stopword removal."
   ]
  },
  {
   "cell_type": "code",
   "execution_count": 22,
   "metadata": {},
   "outputs": [
    {
     "name": "stdout",
     "output_type": "stream",
     "text": [
      "[nltk_data] Downloading package punkt to\n",
      "[nltk_data]     C:\\Users\\Junpa\\AppData\\Roaming\\nltk_data...\n",
      "[nltk_data]   Package punkt is already up-to-date!\n"
     ]
    }
   ],
   "source": [
    "#tokenization\n",
    "import nltk\n",
    "nltk.download('punkt')\n",
    "from nltk.tokenize import WhitespaceTokenizer"
   ]
  },
  {
   "cell_type": "code",
   "execution_count": 23,
   "metadata": {},
   "outputs": [],
   "source": [
    "#Tokenisasi\n",
    "data_train['statement']= data_train['statement'].apply(nltk.tokenize.WhitespaceTokenizer().tokenize)\n",
    "data_test['statement']= data_test['statement'].apply(nltk.tokenize.WhitespaceTokenizer().tokenize)\n"
   ]
  },
  {
   "cell_type": "code",
   "execution_count": 24,
   "metadata": {},
   "outputs": [
    {
     "data": {
      "text/html": [
       "<div>\n",
       "<style scoped>\n",
       "    .dataframe tbody tr th:only-of-type {\n",
       "        vertical-align: middle;\n",
       "    }\n",
       "\n",
       "    .dataframe tbody tr th {\n",
       "        vertical-align: top;\n",
       "    }\n",
       "\n",
       "    .dataframe thead th {\n",
       "        text-align: right;\n",
       "    }\n",
       "</style>\n",
       "<table border=\"1\" class=\"dataframe\">\n",
       "  <thead>\n",
       "    <tr style=\"text-align: right;\">\n",
       "      <th></th>\n",
       "      <th>statement</th>\n",
       "      <th>label_fnn</th>\n",
       "    </tr>\n",
       "  </thead>\n",
       "  <tbody>\n",
       "    <tr>\n",
       "      <th>0</th>\n",
       "      <td>[A, national, organization, says, Georgia, has...</td>\n",
       "      <td>0</td>\n",
       "    </tr>\n",
       "    <tr>\n",
       "      <th>1</th>\n",
       "      <td>[Says, Barack, Obamas, health, care, law, will...</td>\n",
       "      <td>0</td>\n",
       "    </tr>\n",
       "    <tr>\n",
       "      <th>2</th>\n",
       "      <td>[Says, the, Southwest, Florida, Water, Managem...</td>\n",
       "      <td>0</td>\n",
       "    </tr>\n",
       "    <tr>\n",
       "      <th>3</th>\n",
       "      <td>[The, Congressional, Budget, Office, has, this...</td>\n",
       "      <td>1</td>\n",
       "    </tr>\n",
       "    <tr>\n",
       "      <th>4</th>\n",
       "      <td>[Says, the, Treasury, Department, says, percen...</td>\n",
       "      <td>0</td>\n",
       "    </tr>\n",
       "  </tbody>\n",
       "</table>\n",
       "</div>"
      ],
      "text/plain": [
       "                                           statement  label_fnn\n",
       "0  [A, national, organization, says, Georgia, has...          0\n",
       "1  [Says, Barack, Obamas, health, care, law, will...          0\n",
       "2  [Says, the, Southwest, Florida, Water, Managem...          0\n",
       "3  [The, Congressional, Budget, Office, has, this...          1\n",
       "4  [Says, the, Treasury, Department, says, percen...          0"
      ]
     },
     "execution_count": 24,
     "metadata": {},
     "output_type": "execute_result"
    }
   ],
   "source": [
    "#menampilkan hasil tokenization pada data train\n",
    "data_train.head()"
   ]
  },
  {
   "cell_type": "markdown",
   "metadata": {},
   "source": [
    "Setiap berita pada atribut statement berubah menjadi token"
   ]
  },
  {
   "cell_type": "code",
   "execution_count": 25,
   "metadata": {},
   "outputs": [
    {
     "data": {
      "text/html": [
       "<div>\n",
       "<style scoped>\n",
       "    .dataframe tbody tr th:only-of-type {\n",
       "        vertical-align: middle;\n",
       "    }\n",
       "\n",
       "    .dataframe tbody tr th {\n",
       "        vertical-align: top;\n",
       "    }\n",
       "\n",
       "    .dataframe thead th {\n",
       "        text-align: right;\n",
       "    }\n",
       "</style>\n",
       "<table border=\"1\" class=\"dataframe\">\n",
       "  <thead>\n",
       "    <tr style=\"text-align: right;\">\n",
       "      <th></th>\n",
       "      <th>statement</th>\n",
       "      <th>label_fnn</th>\n",
       "    </tr>\n",
       "  </thead>\n",
       "  <tbody>\n",
       "    <tr>\n",
       "      <th>0</th>\n",
       "      <td>[President, Obama, himself, attempted, to, fil...</td>\n",
       "      <td>1</td>\n",
       "    </tr>\n",
       "    <tr>\n",
       "      <th>1</th>\n",
       "      <td>[In, Hawaii, they, dont, have, a, history, of,...</td>\n",
       "      <td>1</td>\n",
       "    </tr>\n",
       "    <tr>\n",
       "      <th>2</th>\n",
       "      <td>[Our, national, debt, is, on, track, to, excee...</td>\n",
       "      <td>1</td>\n",
       "    </tr>\n",
       "    <tr>\n",
       "      <th>3</th>\n",
       "      <td>[Health, insurance, companies, costs, are, onl...</td>\n",
       "      <td>1</td>\n",
       "    </tr>\n",
       "    <tr>\n",
       "      <th>4</th>\n",
       "      <td>[We, can, prevent, terror, suspects, from, boa...</td>\n",
       "      <td>1</td>\n",
       "    </tr>\n",
       "  </tbody>\n",
       "</table>\n",
       "</div>"
      ],
      "text/plain": [
       "                                           statement  label_fnn\n",
       "0  [President, Obama, himself, attempted, to, fil...          1\n",
       "1  [In, Hawaii, they, dont, have, a, history, of,...          1\n",
       "2  [Our, national, debt, is, on, track, to, excee...          1\n",
       "3  [Health, insurance, companies, costs, are, onl...          1\n",
       "4  [We, can, prevent, terror, suspects, from, boa...          1"
      ]
     },
     "execution_count": 25,
     "metadata": {},
     "output_type": "execute_result"
    }
   ],
   "source": [
    "#menampilkan hasil tokenization pada data train\n",
    "data_test.head()"
   ]
  },
  {
   "cell_type": "markdown",
   "metadata": {},
   "source": [
    "# Stopword Removal"
   ]
  },
  {
   "cell_type": "code",
   "execution_count": 26,
   "metadata": {},
   "outputs": [
    {
     "name": "stdout",
     "output_type": "stream",
     "text": [
      "[nltk_data] Downloading package stopwords to\n",
      "[nltk_data]     C:\\Users\\Junpa\\AppData\\Roaming\\nltk_data...\n",
      "[nltk_data]   Package stopwords is already up-to-date!\n"
     ]
    }
   ],
   "source": [
    "#stopword removal\n",
    "nltk.download('stopwords')\n",
    "from nltk.corpus import stopwords\n",
    "stop=set(stopwords.words('english'))"
   ]
  },
  {
   "cell_type": "code",
   "execution_count": 27,
   "metadata": {},
   "outputs": [],
   "source": [
    "#implementasi stopword removal\n",
    "stop = stopwords.words('english')\n",
    "data_train['statement'] = data_train['statement'].apply(lambda x: [item for item in x if item not in stop])\n",
    "data_test['statement'] = data_test['statement'].apply(lambda x: [item for item in x if item not in stop])"
   ]
  },
  {
   "cell_type": "code",
   "execution_count": 28,
   "metadata": {},
   "outputs": [
    {
     "data": {
      "text/html": [
       "<div>\n",
       "<style scoped>\n",
       "    .dataframe tbody tr th:only-of-type {\n",
       "        vertical-align: middle;\n",
       "    }\n",
       "\n",
       "    .dataframe tbody tr th {\n",
       "        vertical-align: top;\n",
       "    }\n",
       "\n",
       "    .dataframe thead th {\n",
       "        text-align: right;\n",
       "    }\n",
       "</style>\n",
       "<table border=\"1\" class=\"dataframe\">\n",
       "  <thead>\n",
       "    <tr style=\"text-align: right;\">\n",
       "      <th></th>\n",
       "      <th>statement</th>\n",
       "      <th>label_fnn</th>\n",
       "    </tr>\n",
       "  </thead>\n",
       "  <tbody>\n",
       "    <tr>\n",
       "      <th>0</th>\n",
       "      <td>[A, national, organization, says, Georgia, one...</td>\n",
       "      <td>0</td>\n",
       "    </tr>\n",
       "    <tr>\n",
       "      <th>1</th>\n",
       "      <td>[Says, Barack, Obamas, health, care, law, bigg...</td>\n",
       "      <td>0</td>\n",
       "    </tr>\n",
       "    <tr>\n",
       "      <th>2</th>\n",
       "      <td>[Says, Southwest, Florida, Water, Management, ...</td>\n",
       "      <td>0</td>\n",
       "    </tr>\n",
       "    <tr>\n",
       "      <th>3</th>\n",
       "      <td>[The, Congressional, Budget, Office, economic,...</td>\n",
       "      <td>1</td>\n",
       "    </tr>\n",
       "    <tr>\n",
       "      <th>4</th>\n",
       "      <td>[Says, Treasury, Department, says, percent, bu...</td>\n",
       "      <td>0</td>\n",
       "    </tr>\n",
       "  </tbody>\n",
       "</table>\n",
       "</div>"
      ],
      "text/plain": [
       "                                           statement  label_fnn\n",
       "0  [A, national, organization, says, Georgia, one...          0\n",
       "1  [Says, Barack, Obamas, health, care, law, bigg...          0\n",
       "2  [Says, Southwest, Florida, Water, Management, ...          0\n",
       "3  [The, Congressional, Budget, Office, economic,...          1\n",
       "4  [Says, Treasury, Department, says, percent, bu...          0"
      ]
     },
     "execution_count": 28,
     "metadata": {},
     "output_type": "execute_result"
    }
   ],
   "source": [
    "#menampilkan data train setelah dilakukan stopword removal\n",
    "data_train.head()"
   ]
  },
  {
   "cell_type": "code",
   "execution_count": 29,
   "metadata": {},
   "outputs": [
    {
     "data": {
      "text/html": [
       "<div>\n",
       "<style scoped>\n",
       "    .dataframe tbody tr th:only-of-type {\n",
       "        vertical-align: middle;\n",
       "    }\n",
       "\n",
       "    .dataframe tbody tr th {\n",
       "        vertical-align: top;\n",
       "    }\n",
       "\n",
       "    .dataframe thead th {\n",
       "        text-align: right;\n",
       "    }\n",
       "</style>\n",
       "<table border=\"1\" class=\"dataframe\">\n",
       "  <thead>\n",
       "    <tr style=\"text-align: right;\">\n",
       "      <th></th>\n",
       "      <th>statement</th>\n",
       "      <th>label_fnn</th>\n",
       "    </tr>\n",
       "  </thead>\n",
       "  <tbody>\n",
       "    <tr>\n",
       "      <th>0</th>\n",
       "      <td>[President, Obama, attempted, filibuster, Just...</td>\n",
       "      <td>1</td>\n",
       "    </tr>\n",
       "    <tr>\n",
       "      <th>1</th>\n",
       "      <td>[In, Hawaii, dont, history, throwing, incumben...</td>\n",
       "      <td>1</td>\n",
       "    </tr>\n",
       "    <tr>\n",
       "      <th>2</th>\n",
       "      <td>[Our, national, debt, track, exceed, size, ent...</td>\n",
       "      <td>1</td>\n",
       "    </tr>\n",
       "    <tr>\n",
       "      <th>3</th>\n",
       "      <td>[Health, insurance, companies, costs, percent,...</td>\n",
       "      <td>1</td>\n",
       "    </tr>\n",
       "    <tr>\n",
       "      <th>4</th>\n",
       "      <td>[We, prevent, terror, suspects, boarding, airp...</td>\n",
       "      <td>1</td>\n",
       "    </tr>\n",
       "  </tbody>\n",
       "</table>\n",
       "</div>"
      ],
      "text/plain": [
       "                                           statement  label_fnn\n",
       "0  [President, Obama, attempted, filibuster, Just...          1\n",
       "1  [In, Hawaii, dont, history, throwing, incumben...          1\n",
       "2  [Our, national, debt, track, exceed, size, ent...          1\n",
       "3  [Health, insurance, companies, costs, percent,...          1\n",
       "4  [We, prevent, terror, suspects, boarding, airp...          1"
      ]
     },
     "execution_count": 29,
     "metadata": {},
     "output_type": "execute_result"
    }
   ],
   "source": [
    "#menampilkan data test setelah dilakukan stopword removal\n",
    "data_test.head()"
   ]
  },
  {
   "cell_type": "markdown",
   "metadata": {},
   "source": [
    "# Lematization"
   ]
  },
  {
   "cell_type": "code",
   "execution_count": 30,
   "metadata": {},
   "outputs": [
    {
     "name": "stdout",
     "output_type": "stream",
     "text": [
      "[nltk_data] Downloading package wordnet to\n",
      "[nltk_data]     C:\\Users\\Junpa\\AppData\\Roaming\\nltk_data...\n",
      "[nltk_data]   Package wordnet is already up-to-date!\n"
     ]
    }
   ],
   "source": [
    "#Lematisasi\n",
    "nltk.download('wordnet')\n",
    "from nltk.stem.wordnet import WordNetLemmatizer\n",
    "def lema_words(text):\n",
    "  wnl=WordNetLemmatizer()\n",
    "  return[wnl.lemmatize(w) for w in text]"
   ]
  },
  {
   "cell_type": "code",
   "execution_count": 31,
   "metadata": {},
   "outputs": [],
   "source": [
    "#implementasi lematisasi\n",
    "lemmatizer = WordNetLemmatizer()\n",
    "\n",
    "data_train['statement'] = data_train['statement'].apply(lambda x: [lemmatizer.lemmatize(y) for y in x])\n",
    "data_test['statement'] = data_test['statement'].apply(lambda x: [lemmatizer.lemmatize(y) for y in x])"
   ]
  },
  {
   "cell_type": "code",
   "execution_count": 32,
   "metadata": {},
   "outputs": [
    {
     "data": {
      "text/html": [
       "<div>\n",
       "<style scoped>\n",
       "    .dataframe tbody tr th:only-of-type {\n",
       "        vertical-align: middle;\n",
       "    }\n",
       "\n",
       "    .dataframe tbody tr th {\n",
       "        vertical-align: top;\n",
       "    }\n",
       "\n",
       "    .dataframe thead th {\n",
       "        text-align: right;\n",
       "    }\n",
       "</style>\n",
       "<table border=\"1\" class=\"dataframe\">\n",
       "  <thead>\n",
       "    <tr style=\"text-align: right;\">\n",
       "      <th></th>\n",
       "      <th>statement</th>\n",
       "      <th>label_fnn</th>\n",
       "    </tr>\n",
       "  </thead>\n",
       "  <tbody>\n",
       "    <tr>\n",
       "      <th>0</th>\n",
       "      <td>[A, national, organization, say, Georgia, one,...</td>\n",
       "      <td>0</td>\n",
       "    </tr>\n",
       "    <tr>\n",
       "      <th>1</th>\n",
       "      <td>[Says, Barack, Obamas, health, care, law, bigg...</td>\n",
       "      <td>0</td>\n",
       "    </tr>\n",
       "    <tr>\n",
       "      <th>2</th>\n",
       "      <td>[Says, Southwest, Florida, Water, Management, ...</td>\n",
       "      <td>0</td>\n",
       "    </tr>\n",
       "    <tr>\n",
       "      <th>3</th>\n",
       "      <td>[The, Congressional, Budget, Office, economic,...</td>\n",
       "      <td>1</td>\n",
       "    </tr>\n",
       "    <tr>\n",
       "      <th>4</th>\n",
       "      <td>[Says, Treasury, Department, say, percent, bus...</td>\n",
       "      <td>0</td>\n",
       "    </tr>\n",
       "  </tbody>\n",
       "</table>\n",
       "</div>"
      ],
      "text/plain": [
       "                                           statement  label_fnn\n",
       "0  [A, national, organization, say, Georgia, one,...          0\n",
       "1  [Says, Barack, Obamas, health, care, law, bigg...          0\n",
       "2  [Says, Southwest, Florida, Water, Management, ...          0\n",
       "3  [The, Congressional, Budget, Office, economic,...          1\n",
       "4  [Says, Treasury, Department, say, percent, bus...          0"
      ]
     },
     "execution_count": 32,
     "metadata": {},
     "output_type": "execute_result"
    }
   ],
   "source": [
    "#menampilkan data train setelah dilakukan lemmatisasi\n",
    "data_train.head()"
   ]
  },
  {
   "cell_type": "code",
   "execution_count": 33,
   "metadata": {},
   "outputs": [
    {
     "data": {
      "text/html": [
       "<div>\n",
       "<style scoped>\n",
       "    .dataframe tbody tr th:only-of-type {\n",
       "        vertical-align: middle;\n",
       "    }\n",
       "\n",
       "    .dataframe tbody tr th {\n",
       "        vertical-align: top;\n",
       "    }\n",
       "\n",
       "    .dataframe thead th {\n",
       "        text-align: right;\n",
       "    }\n",
       "</style>\n",
       "<table border=\"1\" class=\"dataframe\">\n",
       "  <thead>\n",
       "    <tr style=\"text-align: right;\">\n",
       "      <th></th>\n",
       "      <th>statement</th>\n",
       "      <th>label_fnn</th>\n",
       "    </tr>\n",
       "  </thead>\n",
       "  <tbody>\n",
       "    <tr>\n",
       "      <th>0</th>\n",
       "      <td>[President, Obama, attempted, filibuster, Just...</td>\n",
       "      <td>1</td>\n",
       "    </tr>\n",
       "    <tr>\n",
       "      <th>1</th>\n",
       "      <td>[In, Hawaii, dont, history, throwing, incumben...</td>\n",
       "      <td>1</td>\n",
       "    </tr>\n",
       "    <tr>\n",
       "      <th>2</th>\n",
       "      <td>[Our, national, debt, track, exceed, size, ent...</td>\n",
       "      <td>1</td>\n",
       "    </tr>\n",
       "    <tr>\n",
       "      <th>3</th>\n",
       "      <td>[Health, insurance, company, cost, percent, he...</td>\n",
       "      <td>1</td>\n",
       "    </tr>\n",
       "    <tr>\n",
       "      <th>4</th>\n",
       "      <td>[We, prevent, terror, suspect, boarding, airpl...</td>\n",
       "      <td>1</td>\n",
       "    </tr>\n",
       "  </tbody>\n",
       "</table>\n",
       "</div>"
      ],
      "text/plain": [
       "                                           statement  label_fnn\n",
       "0  [President, Obama, attempted, filibuster, Just...          1\n",
       "1  [In, Hawaii, dont, history, throwing, incumben...          1\n",
       "2  [Our, national, debt, track, exceed, size, ent...          1\n",
       "3  [Health, insurance, company, cost, percent, he...          1\n",
       "4  [We, prevent, terror, suspect, boarding, airpl...          1"
      ]
     },
     "execution_count": 33,
     "metadata": {},
     "output_type": "execute_result"
    }
   ],
   "source": [
    "#menampilkan data test setelah dilakukan lemmatisasi\n",
    "data_test.head()"
   ]
  },
  {
   "cell_type": "code",
   "execution_count": 34,
   "metadata": {},
   "outputs": [
    {
     "name": "stdout",
     "output_type": "stream",
     "text": [
      "1054\n"
     ]
    }
   ],
   "source": [
    "print(len(data_test))"
   ]
  },
  {
   "cell_type": "markdown",
   "metadata": {},
   "source": [
    "# WORD2VEC"
   ]
  },
  {
   "cell_type": "code",
   "execution_count": 35,
   "metadata": {},
   "outputs": [
    {
     "name": "stdout",
     "output_type": "stream",
     "text": [
      "Vocabulary Size: 15896 - Embedding Dim: 100\n",
      "[('larger', 0.9847996234893799), ('exceeds', 0.9845266342163086), ('consumes', 0.983977735042572)]\n"
     ]
    }
   ],
   "source": [
    "w2v_model = gensim.models.Word2Vec(data_train['statement'], size=100, sg=0, min_count=1, window=5, iter =10)\n",
    "w2v_weights = w2v_model.wv.vectors\n",
    "vocab_size, embedding_size = w2v_weights.shape\n",
    "\n",
    "print(\"Vocabulary Size: {} - Embedding Dim: {}\".format(vocab_size, embedding_size))\n",
    "print(w2v_model.wv.most_similar('size', topn=3))\n",
    "\n",
    "# definisikan fungsi untuk membuat averaged sentence vector dari list of sentence tokens\n",
    "def buildWordVector(tokens, size):\n",
    "    vec = np.zeros(size).reshape((1, size))\n",
    "    count = 0.\n",
    "    for word in tokens:\n",
    "        try:\n",
    "            # jumlahkan\n",
    "            vec += w2v_model.wv.__getitem__(word).reshape((1, size))\n",
    "            count += 1.\n",
    "        except KeyError: \n",
    "            \n",
    "            continue\n",
    "    # bagikan dengan total word dalam sentence\n",
    "    if count != 0:\n",
    "        vec /= count\n",
    "    return vec\n",
    "\n",
    "# konversi data_train['statement'] dan data_test['statement'] ke dalam list of vectors\n",
    "X_train_w2v = np.concatenate([buildWordVector(z, 100) for z in map(lambda x: x, data_train['statement'])])\n",
    "\n",
    "#fungsi untuk mengubah setiap kalimat menjadi token\n",
    "def word_token(word):\n",
    "    try:\n",
    "        return w2v_model.wv.vocab[word].index\n",
    "\n",
    "    except KeyError:\n",
    "        return 0\n",
    "    \n",
    "#fungsi untuk mengubah kata yang telah ditokenisasi menjadi kalimat biasa\n",
    "def token_word(token):\n",
    "    return w2v_model.wv.index2word[token]"
   ]
  },
  {
   "cell_type": "code",
   "execution_count": 36,
   "metadata": {},
   "outputs": [],
   "source": [
    "#jumlah sampel kata\n",
    "#samples = 500\n",
    "#randoms = random.sample(range(vocab_size), samples)\n",
    "#random_words = [token_word(i) for i in randoms]\n",
    "\n",
    "#word_vecs = np.array([w2v_model[w] for w in random_words])\n",
    "\n",
    "#tsne = TSNE()\n",
    "#tsne_e = tsne.fit_transform(word_vecs)\n",
    "# Plot t-SNE result\n",
    "#plt.figure(figsize=(32, 32))\n",
    "#plt.scatter(tsne_e[:, 0], tsne_e[:, 1], marker='o', c=range(len(random_words)), cmap=plt.get_cmap('Spectral'))\n",
    "\n",
    "#for label, x, y, in zip(random_words, tsne_e[:, 0], tsne_e[:, 1]):\n",
    "    #plt.annotate(label,\n",
    "                 #xy=(x, y), xytext=(0, 15),\n",
    "                # textcoords='offset points', ha='right', va='bottom',\n",
    "                # bbox=dict(boxstyle='round, pad=0.2', fc='yellow', alpha=0.1))"
   ]
  },
  {
   "cell_type": "markdown",
   "metadata": {},
   "source": [
    "# Untuk Model 2"
   ]
  },
  {
   "cell_type": "code",
   "execution_count": 37,
   "metadata": {},
   "outputs": [
    {
     "name": "stdout",
     "output_type": "stream",
     "text": [
      "Found 14077 unique tokens.\n"
     ]
    }
   ],
   "source": [
    "MAX_NB_WORDS = vocab_size\n",
    "MAX_SEQUENCE_LENGTH = 250\n",
    "EMBEDDING_DIM = 100\n",
    "\n",
    "#perhatikan bahwa pada model kedua dilakukan tokenisasi pada kalimat/judul dengan ketentuan di bawah ini\n",
    "tokenizer = Tokenizer(num_words=MAX_NB_WORDS, filters='!\"#$%&()*+,-./:;<=>?@[\\]^_`{|}~', lower=True)\n",
    "tokenizer.fit_on_texts(data_train['statement'].values)\n",
    "word_index = tokenizer.word_index\n",
    "print('Found %s unique tokens.' % len(word_index))"
   ]
  },
  {
   "cell_type": "code",
   "execution_count": 38,
   "metadata": {},
   "outputs": [],
   "source": [
    "#mengubah bentuk kelimat menjadi tokenisasi, dimana atribut yang digunakan yaitu statement\n",
    "X = tokenizer.texts_to_sequences(data_train['statement'].values)\n",
    "X = pad_sequences(X, maxlen=MAX_SEQUENCE_LENGTH)\n",
    "\n",
    "#mengubah label dan ditampung oleh variabel Y\n",
    "Y = pd.get_dummies(data_train['label_fnn']).values"
   ]
  },
  {
   "cell_type": "code",
   "execution_count": 39,
   "metadata": {},
   "outputs": [
    {
     "name": "stdout",
     "output_type": "stream",
     "text": [
      "(13690, 250) (13690, 2)\n",
      "(1522, 250) (1522, 2)\n"
     ]
    }
   ],
   "source": [
    "#mensplit data menjadi train dan test \n",
    "X_train, X_test, Y_train, Y_test = train_test_split(X,Y, test_size = 0.10, random_state = 42)\n",
    "print(X_train.shape,Y_train.shape)\n",
    "print(X_test.shape,Y_test.shape)"
   ]
  },
  {
   "cell_type": "code",
   "execution_count": 40,
   "metadata": {},
   "outputs": [],
   "source": [
    "#data test\n",
    "tokenizer2 = Tokenizer(num_words=250, filters='!\"#$%&()*+,-./:;<=>?@[\\]^_`{|}~', lower=True)\n",
    "tokenizer2.fit_on_texts(data_test['statement'].values)"
   ]
  },
  {
   "cell_type": "code",
   "execution_count": 41,
   "metadata": {},
   "outputs": [],
   "source": [
    "x = tokenizer2.texts_to_sequences(data_test['statement'].values)\n",
    "x= pad_sequences(x, maxlen=MAX_SEQUENCE_LENGTH)\n",
    "y = pd.get_dummies(data_test['label_fnn']).values"
   ]
  },
  {
   "cell_type": "code",
   "execution_count": 42,
   "metadata": {},
   "outputs": [
    {
     "name": "stdout",
     "output_type": "stream",
     "text": [
      "(843, 250) (843, 2)\n",
      "(211, 250) (211, 2)\n"
     ]
    }
   ],
   "source": [
    "test_X_train, test_X_test, test_Y_train, test_Y_test = train_test_split(x, y, test_size = 0.20, random_state = 42)\n",
    "print(test_X_train.shape,test_Y_train.shape)\n",
    "print(test_X_test.shape,test_Y_test.shape)"
   ]
  },
  {
   "cell_type": "markdown",
   "metadata": {},
   "source": [
    "# Model 1"
   ]
  },
  {
   "cell_type": "code",
   "execution_count": 43,
   "metadata": {},
   "outputs": [],
   "source": [
    "#class kode di bawah digunakan untuk model pertama sebagai tokisasi. \n",
    "#dimana data yang diambil dari dua atribut yang berbeda dan ditampung oleh dua variabel yang berbeda\n",
    "\n",
    "DROP_THRESHOLD = 1000\n",
    "\n",
    "class SequenceIterator:\n",
    "    def __init__(self, dataset, drop_threshold, seq_length):\n",
    "        self.dataset = dataset\n",
    "\n",
    "        self.translator = str.maketrans('', '', string.punctuation + '–')\n",
    "        self.categories, self.ccount = np.unique(dataset.label_fnn, return_counts=True)\n",
    "        \n",
    "        self.seq_length = seq_length\n",
    "        \n",
    "\n",
    "        self.drop_categos = []\n",
    "        for cat, count in zip(self.categories, self.ccount):\n",
    "            if count < drop_threshold:\n",
    "                self.drop_categos.append(cat)\n",
    "        \n",
    "        # menamai label atau categori\n",
    "        self.categories = np.setdiff1d(self.categories, self.drop_categos)\n",
    "       \n",
    "    def __iter__(self):\n",
    "        for news, cat in zip(self.dataset.iloc[:, 0], self.dataset.iloc[:, 1]):\n",
    "            if cat in self.drop_categos:\n",
    "                continue\n",
    "            \n",
    "            # Membuat semua kata menjadi huruf kecil\n",
    "            news = news.lower()\n",
    "            \n",
    "            # melakukan punctuation\n",
    "            news = news.translate(self.translator)\n",
    "\n",
    "            words = np.array([word_token(w) for w in news.split(' ')[:self.seq_length] if w != ''])\n",
    "               \n",
    "            yield (words, cat)\n",
    "\n",
    "sequences = SequenceIterator(data, DROP_THRESHOLD, MAX_SEQUENCE_LENGTH)\n",
    "\n",
    "\n",
    "cat_dict = {k: v for k, v in zip(sequences.categories, range(len(sequences.categories)))}\n",
    "\n",
    "set_x = []\n",
    "set_y = []\n",
    "for w, c in sequences:\n",
    "    set_x.append(w)\n",
    "    set_y.append(cat_dict[c])\n",
    "    \n",
    "\n",
    "set_x = pad_sequences(set_x, maxlen=MAX_SEQUENCE_LENGTH, padding='pre', value=0)\n",
    "set_y = np.array(set_y)\n",
    "\n"
   ]
  },
  {
   "cell_type": "code",
   "execution_count": 44,
   "metadata": {},
   "outputs": [
    {
     "name": "stdout",
     "output_type": "stream",
     "text": [
      "15212 15212\n"
     ]
    }
   ],
   "source": [
    "print(len(set_y), len(set_x))"
   ]
  },
  {
   "cell_type": "markdown",
   "metadata": {},
   "source": [
    "# TEST BILSTM"
   ]
  },
  {
   "cell_type": "code",
   "execution_count": 45,
   "metadata": {},
   "outputs": [
    {
     "name": "stdout",
     "output_type": "stream",
     "text": [
      "Train Shapes - X: (12170, 250) - Y: (12170,)\n",
      "Val Shapes - X: (3042, 250) - Y: (3042,)\n"
     ]
    }
   ],
   "source": [
    "#presentasi jumlah data yang akan digunakan untuk validasi dan tes\n",
    "\n",
    "VALID_PER = 0.2 \n",
    "total_samples = set_x.shape[0]\n",
    "n_val = int(VALID_PER * total_samples)\n",
    "n_train = total_samples - n_val\n",
    "\n",
    "random_i = random.sample(range(total_samples), total_samples)\n",
    "train_x = set_x[random_i[:n_train]]\n",
    "train_y = set_y[random_i[:n_train]]\n",
    "val_x = set_x[random_i[n_train:n_train+n_val]]\n",
    "val_y = set_y[random_i[n_train:n_train+n_val]]\n",
    "\n",
    "print(\"Train Shapes - X: {} - Y: {}\".format(train_x.shape, train_y.shape))\n",
    "print(\"Val Shapes - X: {} - Y: {}\".format(val_x.shape, val_y.shape))\n",
    "\n",
    "\n",
    "categories, ccount = np.unique(train_y, return_counts=True)\n",
    "#jumlah label yang digunakan yaitu 1 dan 0 (berjumlah 2)\n",
    "n_categories = len(categories)"
   ]
  },
  {
   "cell_type": "markdown",
   "metadata": {},
   "source": [
    "# Model 1"
   ]
  },
  {
   "cell_type": "code",
   "execution_count": 46,
   "metadata": {},
   "outputs": [
    {
     "name": "stdout",
     "output_type": "stream",
     "text": [
      "Model: \"sequential\"\n",
      "_________________________________________________________________\n",
      "Layer (type)                 Output Shape              Param #   \n",
      "=================================================================\n",
      "embedding (Embedding)        (None, 250, 100)          1589600   \n",
      "_________________________________________________________________\n",
      "bidirectional (Bidirectional (None, 200)               160800    \n",
      "_________________________________________________________________\n",
      "dense (Dense)                (None, 2)                 402       \n",
      "=================================================================\n",
      "Total params: 1,750,802\n",
      "Trainable params: 161,202\n",
      "Non-trainable params: 1,589,600\n",
      "_________________________________________________________________\n",
      "None\n"
     ]
    }
   ],
   "source": [
    "#input_dim merupakan jumlah dari vocab yang ada pada dataset\n",
    "#output_dim menggunakan ukuran yang sama dengan weights.\n",
    "#weights merupakan bobot yang akan digunakan pada lstm dalam mengklasifikasi\n",
    "#aktivasi softmax digunakan sebagai fungsi aktivasi pada lapisan keluaran model jaringan saraf \n",
    "#tiruan yang memprediksi distribusi probabilitas multinomial\n",
    "\n",
    "model = Sequential()\n",
    "model.add(Embedding(input_dim=vocab_size,\n",
    "                    output_dim=embedding_size,\n",
    "                    weights=[w2v_weights],\n",
    "                    input_length=MAX_SEQUENCE_LENGTH,\n",
    "                    mask_zero=True,\n",
    "                    trainable=False))\n",
    "\n",
    "model.add(Bidirectional(LSTM(100)))\n",
    "model.add(Dense(n_categories, activation='softmax'))\n",
    "\n",
    "model.compile(optimizer='adam', loss='sparse_categorical_crossentropy', metrics=['accuracy'])\n",
    "print(model.summary())\n"
   ]
  },
  {
   "cell_type": "code",
   "execution_count": 47,
   "metadata": {},
   "outputs": [
    {
     "name": "stdout",
     "output_type": "stream",
     "text": [
      "Epoch 1/5\n",
      "191/191 [==============================] - 193s 1s/step - loss: 0.6716 - accuracy: 0.5939 - val_loss: 0.6622 - val_accuracy: 0.6045\n",
      "Epoch 2/5\n",
      "191/191 [==============================] - 184s 962ms/step - loss: 0.6669 - accuracy: 0.5977 - val_loss: 0.6606 - val_accuracy: 0.6082\n",
      "Epoch 3/5\n",
      "191/191 [==============================] - 185s 967ms/step - loss: 0.6638 - accuracy: 0.5985 - val_loss: 0.6560 - val_accuracy: 0.6095\n",
      "Epoch 4/5\n",
      "191/191 [==============================] - 189s 990ms/step - loss: 0.6601 - accuracy: 0.6052 - val_loss: 0.6567 - val_accuracy: 0.6072\n",
      "Epoch 5/5\n",
      "191/191 [==============================] - 227s 1s/step - loss: 0.6569 - accuracy: 0.6109 - val_loss: 0.6554 - val_accuracy: 0.6121\n"
     ]
    }
   ],
   "source": [
    "epochs = 5\n",
    "batch_size = 64\n",
    "historys = model.fit(train_x, train_y, epochs=epochs, batch_size=batch_size,\n",
    "                    validation_data=(val_x, val_y), verbose=1)"
   ]
  },
  {
   "cell_type": "code",
   "execution_count": 48,
   "metadata": {},
   "outputs": [
    {
     "name": "stdout",
     "output_type": "stream",
     "text": [
      "96/96 [==============================] - 9s 95ms/step - loss: 0.6554 - accuracy: 0.6121\n",
      "Test set\n",
      "  Loss: 0.655\n",
      "  Accuracy: 0.612\n"
     ]
    }
   ],
   "source": [
    "accr = model.evaluate(val_x,val_y)\n",
    "print('Test set\\n  Loss: {:0.3f}\\n  Accuracy: {:0.3f}'.format(accr[0],accr[1]))"
   ]
  },
  {
   "cell_type": "markdown",
   "metadata": {},
   "source": [
    "# Model 2"
   ]
  },
  {
   "cell_type": "code",
   "execution_count": 49,
   "metadata": {},
   "outputs": [
    {
     "name": "stdout",
     "output_type": "stream",
     "text": [
      "Model: \"sequential_1\"\n",
      "_________________________________________________________________\n",
      "Layer (type)                 Output Shape              Param #   \n",
      "=================================================================\n",
      "embedding_1 (Embedding)      (None, 250, 100)          1589600   \n",
      "_________________________________________________________________\n",
      "spatial_dropout1d (SpatialDr (None, 250, 100)          0         \n",
      "_________________________________________________________________\n",
      "bidirectional_1 (Bidirection (None, 200)               160800    \n",
      "_________________________________________________________________\n",
      "dense_1 (Dense)              (None, 2)                 402       \n",
      "=================================================================\n",
      "Total params: 1,750,802\n",
      "Trainable params: 1,750,802\n",
      "Non-trainable params: 0\n",
      "_________________________________________________________________\n",
      "None\n"
     ]
    }
   ],
   "source": [
    "model2 = Sequential()\n",
    "model2.add(Embedding(MAX_NB_WORDS,\n",
    "                    EMBEDDING_DIM,\n",
    "                    weights=[w2v_weights],\n",
    "                    input_length=X.shape[1]\n",
    "                    ))\n",
    "\n",
    "model2.add(SpatialDropout1D(0.2))\n",
    "model2.add(Bidirectional(LSTM(100, dropout=0.2, recurrent_dropout=0.2)))\n",
    "model2.add(Dense(n_categories, activation='softmax'))\n",
    "\n",
    "model2.compile(optimizer='adam', loss='categorical_crossentropy', metrics=['accuracy'])\n",
    "print(model2.summary())"
   ]
  },
  {
   "cell_type": "code",
   "execution_count": 50,
   "metadata": {},
   "outputs": [
    {
     "name": "stdout",
     "output_type": "stream",
     "text": [
      "Epoch 1/5\n",
      "193/193 [==============================] - 480s 2s/step - loss: 0.6921 - accuracy: 0.5392 - val_loss: 0.6805 - val_accuracy: 0.5551\n",
      "Epoch 2/5\n",
      "193/193 [==============================] - 475s 2s/step - loss: 0.6688 - accuracy: 0.5841 - val_loss: 0.6690 - val_accuracy: 0.5800\n",
      "Epoch 3/5\n",
      "193/193 [==============================] - 482s 2s/step - loss: 0.5969 - accuracy: 0.6792 - val_loss: 0.7111 - val_accuracy: 0.5939\n",
      "Epoch 4/5\n",
      "193/193 [==============================] - 504s 3s/step - loss: 0.4327 - accuracy: 0.7964 - val_loss: 0.8227 - val_accuracy: 0.5822\n",
      "Epoch 5/5\n",
      "193/193 [==============================] - 442s 2s/step - loss: 0.3194 - accuracy: 0.8507 - val_loss: 1.0527 - val_accuracy: 0.5720\n"
     ]
    }
   ],
   "source": [
    "epochs = 5\n",
    "batch_size = 64\n",
    "train =model2.fit(X_train, Y_train, epochs=epochs, batch_size=batch_size,validation_split=0.1,callbacks=[EarlyStopping(monitor='val_loss', patience=3, min_delta=0.0001)])\n"
   ]
  },
  {
   "cell_type": "code",
   "execution_count": 51,
   "metadata": {},
   "outputs": [
    {
     "name": "stdout",
     "output_type": "stream",
     "text": [
      "Epoch 1/5\n",
      "12/12 [==============================] - 26s 2s/step - loss: 0.7028 - accuracy: 0.5607 - val_loss: 0.5860 - val_accuracy: 0.7765\n",
      "Epoch 2/5\n",
      "12/12 [==============================] - 25s 2s/step - loss: 0.6169 - accuracy: 0.6715 - val_loss: 0.5447 - val_accuracy: 0.7765\n",
      "Epoch 3/5\n",
      "12/12 [==============================] - 26s 2s/step - loss: 0.5805 - accuracy: 0.6873 - val_loss: 0.5376 - val_accuracy: 0.7294\n",
      "Epoch 4/5\n",
      "12/12 [==============================] - 26s 2s/step - loss: 0.5556 - accuracy: 0.7137 - val_loss: 0.5243 - val_accuracy: 0.7412\n",
      "Epoch 5/5\n",
      "12/12 [==============================] - 25s 2s/step - loss: 0.5391 - accuracy: 0.7335 - val_loss: 0.5015 - val_accuracy: 0.7765\n"
     ]
    }
   ],
   "source": [
    "test =model2.fit(test_X_train, test_Y_train, epochs=epochs, batch_size=batch_size,validation_split=0.1,callbacks=[EarlyStopping(monitor='val_loss', patience=3, min_delta=0.0001)])"
   ]
  },
  {
   "cell_type": "code",
   "execution_count": 52,
   "metadata": {},
   "outputs": [
    {
     "name": "stdout",
     "output_type": "stream",
     "text": [
      "48/48 [==============================] - 10s 205ms/step - loss: 1.1535 - accuracy: 0.5795\n",
      "Test set\n",
      "  Loss: 1.153\n",
      "  Accuracy: 0.580\n"
     ]
    }
   ],
   "source": [
    "accuras = model2.evaluate(X_test,Y_test)\n",
    "print('Test set\\n  Loss: {:0.3f}\\n  Accuracy: {:0.3f}'.format(accuras[0],accuras[1]))"
   ]
  },
  {
   "cell_type": "code",
   "execution_count": 53,
   "metadata": {},
   "outputs": [
    {
     "name": "stdout",
     "output_type": "stream",
     "text": [
      "              precision    recall  f1-score   support\n",
      "\n",
      "        fake       0.50      0.65      0.57      2533\n",
      "        real       0.49      0.34      0.40      2487\n",
      "\n",
      "    accuracy                           0.50      5020\n",
      "   macro avg       0.50      0.50      0.49      5020\n",
      "weighted avg       0.50      0.50      0.49      5020\n",
      "\n"
     ]
    },
    {
     "name": "stderr",
     "output_type": "stream",
     "text": [
      "C:\\ProgramData\\Anaconda3\\lib\\site-packages\\sklearn\\svm\\_base.py:977: ConvergenceWarning: Liblinear failed to converge, increase the number of iterations.\n",
      "  \"the number of iterations.\", ConvergenceWarning)\n"
     ]
    }
   ],
   "source": [
    "dels = LinearSVC()\n",
    "C_train, C_test, K_train, K_test = train_test_split(set_x, set_y, test_size= 0.33, random_state= 0)\n",
    "dels.fit(C_train, K_train)\n",
    "K_pred= dels.predict(C_test)\n",
    "print(metrics.classification_report(K_test, K_pred, target_names = datas['label_fnn'].unique()))"
   ]
  },
  {
   "cell_type": "code",
   "execution_count": null,
   "metadata": {},
   "outputs": [],
   "source": []
  },
  {
   "cell_type": "code",
   "execution_count": null,
   "metadata": {},
   "outputs": [],
   "source": []
  }
 ],
 "metadata": {
  "kernelspec": {
   "display_name": "Python 3",
   "language": "python",
   "name": "python3"
  },
  "language_info": {
   "codemirror_mode": {
    "name": "ipython",
    "version": 3
   },
   "file_extension": ".py",
   "mimetype": "text/x-python",
   "name": "python",
   "nbconvert_exporter": "python",
   "pygments_lexer": "ipython3",
   "version": "3.6.5"
  }
 },
 "nbformat": 4,
 "nbformat_minor": 2
}
