{
 "cells": [
  {
   "cell_type": "markdown",
   "metadata": {},
   "source": [
    "# Implementasi Proyek\n",
    "11S4037 / Pemrosesan Bahasa Alami\n"
   ]
  },
  {
   "cell_type": "code",
   "execution_count": 77,
   "metadata": {},
   "outputs": [],
   "source": [
    "import pandas as pd \n",
    "import matplotlib.pyplot as plt \n",
    "import numpy as np \n",
    "import tensorflow as tf \n",
    "import re \n",
    "from tensorflow.keras.preprocessing.text import Tokenizer\n",
    "import tensorflow as tf\n",
    "from sklearn.metrics import accuracy_score\n",
    "from sklearn.model_selection import train_test_split\n",
    "from sklearn.metrics import accuracy_score, confusion_matrix, precision_score, recall_score\n",
    "import seaborn as sns \n",
    "plt.style.use('ggplot')"
   ]
  },
  {
   "cell_type": "code",
   "execution_count": 95,
   "metadata": {},
   "outputs": [],
   "source": [
    "#LOAD DATASET\n",
    "data_train = pd.read_csv('D:/Semester 7/NLP/PROYEK/DATASET/fnn_train.csv')\n",
    "\n",
    "data_test = pd.read_csv('D:/Semester 7/NLP/PROYEK/DATASET/fnn_test.csv')\n",
    "\n"
   ]
  },
  {
   "cell_type": "code",
   "execution_count": 97,
   "metadata": {},
   "outputs": [
    {
     "data": {
      "text/html": [
       "<div>\n",
       "<style scoped>\n",
       "    .dataframe tbody tr th:only-of-type {\n",
       "        vertical-align: middle;\n",
       "    }\n",
       "\n",
       "    .dataframe tbody tr th {\n",
       "        vertical-align: top;\n",
       "    }\n",
       "\n",
       "    .dataframe thead th {\n",
       "        text-align: right;\n",
       "    }\n",
       "</style>\n",
       "<table border=\"1\" class=\"dataframe\">\n",
       "  <thead>\n",
       "    <tr style=\"text-align: right;\">\n",
       "      <th></th>\n",
       "      <th>id</th>\n",
       "      <th>date</th>\n",
       "      <th>speaker</th>\n",
       "      <th>statement</th>\n",
       "      <th>sources</th>\n",
       "      <th>paragraph_based_content</th>\n",
       "      <th>fullText_based_content</th>\n",
       "      <th>label_fnn</th>\n",
       "    </tr>\n",
       "  </thead>\n",
       "  <tbody>\n",
       "    <tr>\n",
       "      <th>0</th>\n",
       "      <td>3106</td>\n",
       "      <td>2011-01-25T06:00:00-05:00</td>\n",
       "      <td>Joe Wilkinson</td>\n",
       "      <td>A national organization says Georgia has one o...</td>\n",
       "      <td>['http://www.ajc.com/news/georgia-politics-ele...</td>\n",
       "      <td>['A coalition of government watchdog groups la...</td>\n",
       "      <td>A coalition of government watchdog groups last...</td>\n",
       "      <td>fake</td>\n",
       "    </tr>\n",
       "    <tr>\n",
       "      <th>1</th>\n",
       "      <td>5655</td>\n",
       "      <td>2012-04-02T11:42:20-04:00</td>\n",
       "      <td>Rick Scott</td>\n",
       "      <td>Says Barack Obama's health care law \"will be t...</td>\n",
       "      <td>['http://www.youtube.com/watch?v=TaC0mKApf9Q&amp;f...</td>\n",
       "      <td>['As Supreme Court justices embarked on three ...</td>\n",
       "      <td>As Supreme Court justices embarked on three da...</td>\n",
       "      <td>fake</td>\n",
       "    </tr>\n",
       "    <tr>\n",
       "      <th>2</th>\n",
       "      <td>3506</td>\n",
       "      <td>2011-04-01T09:49:05-04:00</td>\n",
       "      <td>J.D. Alexander</td>\n",
       "      <td>Says the Southwest Florida Water Management Di...</td>\n",
       "      <td>['http://www.tampabay.com/news/politics/gubern...</td>\n",
       "      <td>[\"Here's a new one: The Senate budget committe...</td>\n",
       "      <td>Here's a new one: The Senate budget committee ...</td>\n",
       "      <td>fake</td>\n",
       "    </tr>\n",
       "    <tr>\n",
       "      <th>3</th>\n",
       "      <td>3450</td>\n",
       "      <td>2011-03-21T12:20:02-04:00</td>\n",
       "      <td>Paul Ryan</td>\n",
       "      <td>\"The Congressional Budget Office has this econ...</td>\n",
       "      <td>['http://www.cnn.com/2011/POLITICS/03/17/gop.b...</td>\n",
       "      <td>['Recently, House Budget chairman Paul Ryan, R...</td>\n",
       "      <td>Recently, House Budget chairman Paul Ryan, R-W...</td>\n",
       "      <td>real</td>\n",
       "    </tr>\n",
       "    <tr>\n",
       "      <th>4</th>\n",
       "      <td>4776</td>\n",
       "      <td>2011-11-13T07:30:00-05:00</td>\n",
       "      <td>Rodney Frelinghuysen</td>\n",
       "      <td>Says the Treasury Department \"says 41 percent ...</td>\n",
       "      <td>['http://frelinghuysen.house.gov/index.cfm?sec...</td>\n",
       "      <td>['The millionaires’ tax proposal made its late...</td>\n",
       "      <td>The millionaires’ tax proposal made its latest...</td>\n",
       "      <td>fake</td>\n",
       "    </tr>\n",
       "  </tbody>\n",
       "</table>\n",
       "</div>"
      ],
      "text/plain": [
       "     id                       date               speaker  \\\n",
       "0  3106  2011-01-25T06:00:00-05:00         Joe Wilkinson   \n",
       "1  5655  2012-04-02T11:42:20-04:00            Rick Scott   \n",
       "2  3506  2011-04-01T09:49:05-04:00        J.D. Alexander   \n",
       "3  3450  2011-03-21T12:20:02-04:00             Paul Ryan   \n",
       "4  4776  2011-11-13T07:30:00-05:00  Rodney Frelinghuysen   \n",
       "\n",
       "                                           statement  \\\n",
       "0  A national organization says Georgia has one o...   \n",
       "1  Says Barack Obama's health care law \"will be t...   \n",
       "2  Says the Southwest Florida Water Management Di...   \n",
       "3  \"The Congressional Budget Office has this econ...   \n",
       "4  Says the Treasury Department \"says 41 percent ...   \n",
       "\n",
       "                                             sources  \\\n",
       "0  ['http://www.ajc.com/news/georgia-politics-ele...   \n",
       "1  ['http://www.youtube.com/watch?v=TaC0mKApf9Q&f...   \n",
       "2  ['http://www.tampabay.com/news/politics/gubern...   \n",
       "3  ['http://www.cnn.com/2011/POLITICS/03/17/gop.b...   \n",
       "4  ['http://frelinghuysen.house.gov/index.cfm?sec...   \n",
       "\n",
       "                             paragraph_based_content  \\\n",
       "0  ['A coalition of government watchdog groups la...   \n",
       "1  ['As Supreme Court justices embarked on three ...   \n",
       "2  [\"Here's a new one: The Senate budget committe...   \n",
       "3  ['Recently, House Budget chairman Paul Ryan, R...   \n",
       "4  ['The millionaires’ tax proposal made its late...   \n",
       "\n",
       "                              fullText_based_content label_fnn  \n",
       "0  A coalition of government watchdog groups last...      fake  \n",
       "1  As Supreme Court justices embarked on three da...      fake  \n",
       "2  Here's a new one: The Senate budget committee ...      fake  \n",
       "3  Recently, House Budget chairman Paul Ryan, R-W...      real  \n",
       "4  The millionaires’ tax proposal made its latest...      fake  "
      ]
     },
     "execution_count": 97,
     "metadata": {},
     "output_type": "execute_result"
    }
   ],
   "source": [
    "#Menampilkan beberapa data pertama pada data train\n",
    "data_train.head()"
   ]
  },
  {
   "cell_type": "code",
   "execution_count": 98,
   "metadata": {},
   "outputs": [
    {
     "data": {
      "text/html": [
       "<div>\n",
       "<style scoped>\n",
       "    .dataframe tbody tr th:only-of-type {\n",
       "        vertical-align: middle;\n",
       "    }\n",
       "\n",
       "    .dataframe tbody tr th {\n",
       "        vertical-align: top;\n",
       "    }\n",
       "\n",
       "    .dataframe thead th {\n",
       "        text-align: right;\n",
       "    }\n",
       "</style>\n",
       "<table border=\"1\" class=\"dataframe\">\n",
       "  <thead>\n",
       "    <tr style=\"text-align: right;\">\n",
       "      <th></th>\n",
       "      <th>id</th>\n",
       "      <th>date</th>\n",
       "      <th>speaker</th>\n",
       "      <th>statement</th>\n",
       "      <th>sources</th>\n",
       "      <th>paragraph_based_content</th>\n",
       "      <th>fullText_based_content</th>\n",
       "      <th>label_fnn</th>\n",
       "    </tr>\n",
       "  </thead>\n",
       "  <tbody>\n",
       "    <tr>\n",
       "      <th>0</th>\n",
       "      <td>1678</td>\n",
       "      <td>2010-04-11T16:37:40-04:00</td>\n",
       "      <td>Jon Kyl</td>\n",
       "      <td>\"President Obama himself attempted to filibust...</td>\n",
       "      <td>['http://abcnews.go.com/ThisWeek/video/supreme...</td>\n",
       "      <td>['U.S. Supreme Court Justice John Paul Stevens...</td>\n",
       "      <td>U.S. Supreme Court Justice John Paul Stevens a...</td>\n",
       "      <td>real</td>\n",
       "    </tr>\n",
       "    <tr>\n",
       "      <th>1</th>\n",
       "      <td>1820</td>\n",
       "      <td>2010-05-23T18:11:09-04:00</td>\n",
       "      <td>Michael Steele</td>\n",
       "      <td>In Hawaii, \"they don't have a history of throw...</td>\n",
       "      <td>['http://www.starbulletin.com/news/bulletin/94...</td>\n",
       "      <td>[\"On ABC's This Week, the chairmen of the Repu...</td>\n",
       "      <td>On ABC's This Week, the chairmen of the Republ...</td>\n",
       "      <td>real</td>\n",
       "    </tr>\n",
       "    <tr>\n",
       "      <th>2</th>\n",
       "      <td>1624</td>\n",
       "      <td>2010-03-26T10:24:21-04:00</td>\n",
       "      <td>John Boehner</td>\n",
       "      <td>\"Our national debt ... is on track to exceed t...</td>\n",
       "      <td>['http://www.desmoinesregister.com/article/201...</td>\n",
       "      <td>['Ever since Barack Obama became president and...</td>\n",
       "      <td>Ever since Barack Obama became president and b...</td>\n",
       "      <td>real</td>\n",
       "    </tr>\n",
       "    <tr>\n",
       "      <th>3</th>\n",
       "      <td>1576</td>\n",
       "      <td>2010-03-12T11:45:14-05:00</td>\n",
       "      <td>America's Health Insurance Plans</td>\n",
       "      <td>\"Health insurance companies' costs are only 4 ...</td>\n",
       "      <td>['http://www.youtube.com/watch?v=4O8CxZ1OD58',...</td>\n",
       "      <td>[\"As the battle over health care reform approa...</td>\n",
       "      <td>As the battle over health care reform approach...</td>\n",
       "      <td>real</td>\n",
       "    </tr>\n",
       "    <tr>\n",
       "      <th>4</th>\n",
       "      <td>1770</td>\n",
       "      <td>2010-05-07T11:54:44-04:00</td>\n",
       "      <td>Michael Bloomberg</td>\n",
       "      <td>\"We can prevent terror suspects from boarding ...</td>\n",
       "      <td>['http://www.huffingtonpost.com/michael-bloomb...</td>\n",
       "      <td>['In the wake of a foiled car bomb attempt in ...</td>\n",
       "      <td>In the wake of a foiled car bomb attempt in Ti...</td>\n",
       "      <td>real</td>\n",
       "    </tr>\n",
       "  </tbody>\n",
       "</table>\n",
       "</div>"
      ],
      "text/plain": [
       "     id                       date                           speaker  \\\n",
       "0  1678  2010-04-11T16:37:40-04:00                           Jon Kyl   \n",
       "1  1820  2010-05-23T18:11:09-04:00                    Michael Steele   \n",
       "2  1624  2010-03-26T10:24:21-04:00                      John Boehner   \n",
       "3  1576  2010-03-12T11:45:14-05:00  America's Health Insurance Plans   \n",
       "4  1770  2010-05-07T11:54:44-04:00                 Michael Bloomberg   \n",
       "\n",
       "                                           statement  \\\n",
       "0  \"President Obama himself attempted to filibust...   \n",
       "1  In Hawaii, \"they don't have a history of throw...   \n",
       "2  \"Our national debt ... is on track to exceed t...   \n",
       "3  \"Health insurance companies' costs are only 4 ...   \n",
       "4  \"We can prevent terror suspects from boarding ...   \n",
       "\n",
       "                                             sources  \\\n",
       "0  ['http://abcnews.go.com/ThisWeek/video/supreme...   \n",
       "1  ['http://www.starbulletin.com/news/bulletin/94...   \n",
       "2  ['http://www.desmoinesregister.com/article/201...   \n",
       "3  ['http://www.youtube.com/watch?v=4O8CxZ1OD58',...   \n",
       "4  ['http://www.huffingtonpost.com/michael-bloomb...   \n",
       "\n",
       "                             paragraph_based_content  \\\n",
       "0  ['U.S. Supreme Court Justice John Paul Stevens...   \n",
       "1  [\"On ABC's This Week, the chairmen of the Repu...   \n",
       "2  ['Ever since Barack Obama became president and...   \n",
       "3  [\"As the battle over health care reform approa...   \n",
       "4  ['In the wake of a foiled car bomb attempt in ...   \n",
       "\n",
       "                              fullText_based_content label_fnn  \n",
       "0  U.S. Supreme Court Justice John Paul Stevens a...      real  \n",
       "1  On ABC's This Week, the chairmen of the Republ...      real  \n",
       "2  Ever since Barack Obama became president and b...      real  \n",
       "3  As the battle over health care reform approach...      real  \n",
       "4  In the wake of a foiled car bomb attempt in Ti...      real  "
      ]
     },
     "execution_count": 98,
     "metadata": {},
     "output_type": "execute_result"
    }
   ],
   "source": [
    "#Menampilkan beberapa data pertama pada data test\n",
    "data_test.head()"
   ]
  },
  {
   "cell_type": "code",
   "execution_count": 99,
   "metadata": {},
   "outputs": [],
   "source": [
    "#data transformation use encoding categorial Value\n",
    "data_train.label_fnn.replace({\"fake\":0}, inplace= True)\n",
    "data_train.label_fnn.replace({\"real\":1}, inplace= True)\n",
    "\n",
    "data_test.label_fnn.replace({\"fake\":0}, inplace= True)\n",
    "data_test.label_fnn.replace({\"real\":1}, inplace= True)"
   ]
  },
  {
   "cell_type": "code",
   "execution_count": 100,
   "metadata": {},
   "outputs": [
    {
     "data": {
      "text/html": [
       "<div>\n",
       "<style scoped>\n",
       "    .dataframe tbody tr th:only-of-type {\n",
       "        vertical-align: middle;\n",
       "    }\n",
       "\n",
       "    .dataframe tbody tr th {\n",
       "        vertical-align: top;\n",
       "    }\n",
       "\n",
       "    .dataframe thead th {\n",
       "        text-align: right;\n",
       "    }\n",
       "</style>\n",
       "<table border=\"1\" class=\"dataframe\">\n",
       "  <thead>\n",
       "    <tr style=\"text-align: right;\">\n",
       "      <th></th>\n",
       "      <th>id</th>\n",
       "      <th>date</th>\n",
       "      <th>speaker</th>\n",
       "      <th>statement</th>\n",
       "      <th>sources</th>\n",
       "      <th>paragraph_based_content</th>\n",
       "      <th>fullText_based_content</th>\n",
       "      <th>label_fnn</th>\n",
       "    </tr>\n",
       "  </thead>\n",
       "  <tbody>\n",
       "    <tr>\n",
       "      <th>0</th>\n",
       "      <td>3106</td>\n",
       "      <td>2011-01-25T06:00:00-05:00</td>\n",
       "      <td>Joe Wilkinson</td>\n",
       "      <td>A national organization says Georgia has one o...</td>\n",
       "      <td>['http://www.ajc.com/news/georgia-politics-ele...</td>\n",
       "      <td>['A coalition of government watchdog groups la...</td>\n",
       "      <td>A coalition of government watchdog groups last...</td>\n",
       "      <td>0</td>\n",
       "    </tr>\n",
       "    <tr>\n",
       "      <th>1</th>\n",
       "      <td>5655</td>\n",
       "      <td>2012-04-02T11:42:20-04:00</td>\n",
       "      <td>Rick Scott</td>\n",
       "      <td>Says Barack Obama's health care law \"will be t...</td>\n",
       "      <td>['http://www.youtube.com/watch?v=TaC0mKApf9Q&amp;f...</td>\n",
       "      <td>['As Supreme Court justices embarked on three ...</td>\n",
       "      <td>As Supreme Court justices embarked on three da...</td>\n",
       "      <td>0</td>\n",
       "    </tr>\n",
       "    <tr>\n",
       "      <th>2</th>\n",
       "      <td>3506</td>\n",
       "      <td>2011-04-01T09:49:05-04:00</td>\n",
       "      <td>J.D. Alexander</td>\n",
       "      <td>Says the Southwest Florida Water Management Di...</td>\n",
       "      <td>['http://www.tampabay.com/news/politics/gubern...</td>\n",
       "      <td>[\"Here's a new one: The Senate budget committe...</td>\n",
       "      <td>Here's a new one: The Senate budget committee ...</td>\n",
       "      <td>0</td>\n",
       "    </tr>\n",
       "    <tr>\n",
       "      <th>3</th>\n",
       "      <td>3450</td>\n",
       "      <td>2011-03-21T12:20:02-04:00</td>\n",
       "      <td>Paul Ryan</td>\n",
       "      <td>\"The Congressional Budget Office has this econ...</td>\n",
       "      <td>['http://www.cnn.com/2011/POLITICS/03/17/gop.b...</td>\n",
       "      <td>['Recently, House Budget chairman Paul Ryan, R...</td>\n",
       "      <td>Recently, House Budget chairman Paul Ryan, R-W...</td>\n",
       "      <td>1</td>\n",
       "    </tr>\n",
       "    <tr>\n",
       "      <th>4</th>\n",
       "      <td>4776</td>\n",
       "      <td>2011-11-13T07:30:00-05:00</td>\n",
       "      <td>Rodney Frelinghuysen</td>\n",
       "      <td>Says the Treasury Department \"says 41 percent ...</td>\n",
       "      <td>['http://frelinghuysen.house.gov/index.cfm?sec...</td>\n",
       "      <td>['The millionaires’ tax proposal made its late...</td>\n",
       "      <td>The millionaires’ tax proposal made its latest...</td>\n",
       "      <td>0</td>\n",
       "    </tr>\n",
       "  </tbody>\n",
       "</table>\n",
       "</div>"
      ],
      "text/plain": [
       "     id                       date               speaker  \\\n",
       "0  3106  2011-01-25T06:00:00-05:00         Joe Wilkinson   \n",
       "1  5655  2012-04-02T11:42:20-04:00            Rick Scott   \n",
       "2  3506  2011-04-01T09:49:05-04:00        J.D. Alexander   \n",
       "3  3450  2011-03-21T12:20:02-04:00             Paul Ryan   \n",
       "4  4776  2011-11-13T07:30:00-05:00  Rodney Frelinghuysen   \n",
       "\n",
       "                                           statement  \\\n",
       "0  A national organization says Georgia has one o...   \n",
       "1  Says Barack Obama's health care law \"will be t...   \n",
       "2  Says the Southwest Florida Water Management Di...   \n",
       "3  \"The Congressional Budget Office has this econ...   \n",
       "4  Says the Treasury Department \"says 41 percent ...   \n",
       "\n",
       "                                             sources  \\\n",
       "0  ['http://www.ajc.com/news/georgia-politics-ele...   \n",
       "1  ['http://www.youtube.com/watch?v=TaC0mKApf9Q&f...   \n",
       "2  ['http://www.tampabay.com/news/politics/gubern...   \n",
       "3  ['http://www.cnn.com/2011/POLITICS/03/17/gop.b...   \n",
       "4  ['http://frelinghuysen.house.gov/index.cfm?sec...   \n",
       "\n",
       "                             paragraph_based_content  \\\n",
       "0  ['A coalition of government watchdog groups la...   \n",
       "1  ['As Supreme Court justices embarked on three ...   \n",
       "2  [\"Here's a new one: The Senate budget committe...   \n",
       "3  ['Recently, House Budget chairman Paul Ryan, R...   \n",
       "4  ['The millionaires’ tax proposal made its late...   \n",
       "\n",
       "                              fullText_based_content  label_fnn  \n",
       "0  A coalition of government watchdog groups last...          0  \n",
       "1  As Supreme Court justices embarked on three da...          0  \n",
       "2  Here's a new one: The Senate budget committee ...          0  \n",
       "3  Recently, House Budget chairman Paul Ryan, R-W...          1  \n",
       "4  The millionaires’ tax proposal made its latest...          0  "
      ]
     },
     "execution_count": 100,
     "metadata": {},
     "output_type": "execute_result"
    }
   ],
   "source": [
    "#Menampilkan beberapa data pertama pada data train yang labelnya sudah ditransformasi\n",
    "data_train.head()"
   ]
  },
  {
   "cell_type": "code",
   "execution_count": 101,
   "metadata": {},
   "outputs": [
    {
     "data": {
      "text/html": [
       "<div>\n",
       "<style scoped>\n",
       "    .dataframe tbody tr th:only-of-type {\n",
       "        vertical-align: middle;\n",
       "    }\n",
       "\n",
       "    .dataframe tbody tr th {\n",
       "        vertical-align: top;\n",
       "    }\n",
       "\n",
       "    .dataframe thead th {\n",
       "        text-align: right;\n",
       "    }\n",
       "</style>\n",
       "<table border=\"1\" class=\"dataframe\">\n",
       "  <thead>\n",
       "    <tr style=\"text-align: right;\">\n",
       "      <th></th>\n",
       "      <th>id</th>\n",
       "      <th>date</th>\n",
       "      <th>speaker</th>\n",
       "      <th>statement</th>\n",
       "      <th>sources</th>\n",
       "      <th>paragraph_based_content</th>\n",
       "      <th>fullText_based_content</th>\n",
       "      <th>label_fnn</th>\n",
       "    </tr>\n",
       "  </thead>\n",
       "  <tbody>\n",
       "    <tr>\n",
       "      <th>0</th>\n",
       "      <td>1678</td>\n",
       "      <td>2010-04-11T16:37:40-04:00</td>\n",
       "      <td>Jon Kyl</td>\n",
       "      <td>\"President Obama himself attempted to filibust...</td>\n",
       "      <td>['http://abcnews.go.com/ThisWeek/video/supreme...</td>\n",
       "      <td>['U.S. Supreme Court Justice John Paul Stevens...</td>\n",
       "      <td>U.S. Supreme Court Justice John Paul Stevens a...</td>\n",
       "      <td>1</td>\n",
       "    </tr>\n",
       "    <tr>\n",
       "      <th>1</th>\n",
       "      <td>1820</td>\n",
       "      <td>2010-05-23T18:11:09-04:00</td>\n",
       "      <td>Michael Steele</td>\n",
       "      <td>In Hawaii, \"they don't have a history of throw...</td>\n",
       "      <td>['http://www.starbulletin.com/news/bulletin/94...</td>\n",
       "      <td>[\"On ABC's This Week, the chairmen of the Repu...</td>\n",
       "      <td>On ABC's This Week, the chairmen of the Republ...</td>\n",
       "      <td>1</td>\n",
       "    </tr>\n",
       "    <tr>\n",
       "      <th>2</th>\n",
       "      <td>1624</td>\n",
       "      <td>2010-03-26T10:24:21-04:00</td>\n",
       "      <td>John Boehner</td>\n",
       "      <td>\"Our national debt ... is on track to exceed t...</td>\n",
       "      <td>['http://www.desmoinesregister.com/article/201...</td>\n",
       "      <td>['Ever since Barack Obama became president and...</td>\n",
       "      <td>Ever since Barack Obama became president and b...</td>\n",
       "      <td>1</td>\n",
       "    </tr>\n",
       "    <tr>\n",
       "      <th>3</th>\n",
       "      <td>1576</td>\n",
       "      <td>2010-03-12T11:45:14-05:00</td>\n",
       "      <td>America's Health Insurance Plans</td>\n",
       "      <td>\"Health insurance companies' costs are only 4 ...</td>\n",
       "      <td>['http://www.youtube.com/watch?v=4O8CxZ1OD58',...</td>\n",
       "      <td>[\"As the battle over health care reform approa...</td>\n",
       "      <td>As the battle over health care reform approach...</td>\n",
       "      <td>1</td>\n",
       "    </tr>\n",
       "    <tr>\n",
       "      <th>4</th>\n",
       "      <td>1770</td>\n",
       "      <td>2010-05-07T11:54:44-04:00</td>\n",
       "      <td>Michael Bloomberg</td>\n",
       "      <td>\"We can prevent terror suspects from boarding ...</td>\n",
       "      <td>['http://www.huffingtonpost.com/michael-bloomb...</td>\n",
       "      <td>['In the wake of a foiled car bomb attempt in ...</td>\n",
       "      <td>In the wake of a foiled car bomb attempt in Ti...</td>\n",
       "      <td>1</td>\n",
       "    </tr>\n",
       "  </tbody>\n",
       "</table>\n",
       "</div>"
      ],
      "text/plain": [
       "     id                       date                           speaker  \\\n",
       "0  1678  2010-04-11T16:37:40-04:00                           Jon Kyl   \n",
       "1  1820  2010-05-23T18:11:09-04:00                    Michael Steele   \n",
       "2  1624  2010-03-26T10:24:21-04:00                      John Boehner   \n",
       "3  1576  2010-03-12T11:45:14-05:00  America's Health Insurance Plans   \n",
       "4  1770  2010-05-07T11:54:44-04:00                 Michael Bloomberg   \n",
       "\n",
       "                                           statement  \\\n",
       "0  \"President Obama himself attempted to filibust...   \n",
       "1  In Hawaii, \"they don't have a history of throw...   \n",
       "2  \"Our national debt ... is on track to exceed t...   \n",
       "3  \"Health insurance companies' costs are only 4 ...   \n",
       "4  \"We can prevent terror suspects from boarding ...   \n",
       "\n",
       "                                             sources  \\\n",
       "0  ['http://abcnews.go.com/ThisWeek/video/supreme...   \n",
       "1  ['http://www.starbulletin.com/news/bulletin/94...   \n",
       "2  ['http://www.desmoinesregister.com/article/201...   \n",
       "3  ['http://www.youtube.com/watch?v=4O8CxZ1OD58',...   \n",
       "4  ['http://www.huffingtonpost.com/michael-bloomb...   \n",
       "\n",
       "                             paragraph_based_content  \\\n",
       "0  ['U.S. Supreme Court Justice John Paul Stevens...   \n",
       "1  [\"On ABC's This Week, the chairmen of the Repu...   \n",
       "2  ['Ever since Barack Obama became president and...   \n",
       "3  [\"As the battle over health care reform approa...   \n",
       "4  ['In the wake of a foiled car bomb attempt in ...   \n",
       "\n",
       "                              fullText_based_content  label_fnn  \n",
       "0  U.S. Supreme Court Justice John Paul Stevens a...          1  \n",
       "1  On ABC's This Week, the chairmen of the Republ...          1  \n",
       "2  Ever since Barack Obama became president and b...          1  \n",
       "3  As the battle over health care reform approach...          1  \n",
       "4  In the wake of a foiled car bomb attempt in Ti...          1  "
      ]
     },
     "execution_count": 101,
     "metadata": {},
     "output_type": "execute_result"
    }
   ],
   "source": [
    "#Menampilkan beberapa data pertama pada data test yang labelnya sudah ditransformasi\n",
    "data_test.head()"
   ]
  },
  {
   "cell_type": "code",
   "execution_count": 102,
   "metadata": {},
   "outputs": [
    {
     "name": "stderr",
     "output_type": "stream",
     "text": [
      "C:\\Users\\Melani\\Anaconda3\\lib\\site-packages\\seaborn\\_decorators.py:43: FutureWarning: Pass the following variable as a keyword arg: x. From version 0.12, the only valid positional argument will be `data`, and passing other arguments without an explicit keyword will result in an error or misinterpretation.\n",
      "  FutureWarning\n"
     ]
    },
    {
     "data": {
      "text/plain": [
       "Text(0.5, 1.0, 'Distribution of Fake News and Real News')"
      ]
     },
     "execution_count": 102,
     "metadata": {},
     "output_type": "execute_result"
    },
    {
     "data": {
      "image/png": "[encoded data removed]",
      "text/plain": [
       "<Figure size 432x288 with 1 Axes>"
      ]
     },
     "metadata": {},
     "output_type": "display_data"
    }
   ],
   "source": [
    "#visualisasi sebaran dataset fake dan true pada train dataset\n",
    "label = data_train['label_fnn']\n",
    "sns.set_style('whitegrid')\n",
    "sns.countplot(label)\n",
    "plt.title('Distribution of Fake News and Real News', size=15)"
   ]
  },
  {
   "cell_type": "code",
   "execution_count": 103,
   "metadata": {},
   "outputs": [
    {
     "name": "stderr",
     "output_type": "stream",
     "text": [
      "C:\\Users\\Melani\\Anaconda3\\lib\\site-packages\\seaborn\\_decorators.py:43: FutureWarning: Pass the following variable as a keyword arg: x. From version 0.12, the only valid positional argument will be `data`, and passing other arguments without an explicit keyword will result in an error or misinterpretation.\n",
      "  FutureWarning\n"
     ]
    },
    {
     "data": {
      "text/plain": [
       "Text(0.5, 1.0, 'Distribution of Fake News and Real News')"
      ]
     },
     "execution_count": 103,
     "metadata": {},
     "output_type": "execute_result"
    },
    {
     "data": {
      "image/png": "[encoded data removed]",
      "text/plain": [
       "<Figure size 432x288 with 1 Axes>"
      ]
     },
     "metadata": {},
     "output_type": "display_data"
    }
   ],
   "source": [
    "#visualisasi sebaran dataset fake dan true pada test dataset\n",
    "label = data_test['label_fnn']\n",
    "sns.set_style('whitegrid')\n",
    "sns.countplot(label)\n",
    "plt.title('Distribution of Fake News and Real News', size=15)"
   ]
  },
  {
   "cell_type": "code",
   "execution_count": 104,
   "metadata": {},
   "outputs": [],
   "source": [
    "#dimensional reduction atau pengurangan dimensi pada data train\n",
    "data_train = data_train.drop(['id','date','speaker','sources','paragraph_based_content','fullText_based_content'], axis = 1)"
   ]
  },
  {
   "cell_type": "code",
   "execution_count": 105,
   "metadata": {},
   "outputs": [],
   "source": [
    "#dimensional reduction atau pengurangan dimensi pada data test\n",
    "data_test = data_test.drop(['id','date','speaker','sources','paragraph_based_content','fullText_based_content'], axis = 1)"
   ]
  },
  {
   "cell_type": "code",
   "execution_count": 106,
   "metadata": {},
   "outputs": [
    {
     "data": {
      "text/html": [
       "<div>\n",
       "<style scoped>\n",
       "    .dataframe tbody tr th:only-of-type {\n",
       "        vertical-align: middle;\n",
       "    }\n",
       "\n",
       "    .dataframe tbody tr th {\n",
       "        vertical-align: top;\n",
       "    }\n",
       "\n",
       "    .dataframe thead th {\n",
       "        text-align: right;\n",
       "    }\n",
       "</style>\n",
       "<table border=\"1\" class=\"dataframe\">\n",
       "  <thead>\n",
       "    <tr style=\"text-align: right;\">\n",
       "      <th></th>\n",
       "      <th>statement</th>\n",
       "      <th>label_fnn</th>\n",
       "    </tr>\n",
       "  </thead>\n",
       "  <tbody>\n",
       "    <tr>\n",
       "      <th>0</th>\n",
       "      <td>A national organization says Georgia has one o...</td>\n",
       "      <td>0</td>\n",
       "    </tr>\n",
       "    <tr>\n",
       "      <th>1</th>\n",
       "      <td>Says Barack Obama's health care law \"will be t...</td>\n",
       "      <td>0</td>\n",
       "    </tr>\n",
       "    <tr>\n",
       "      <th>2</th>\n",
       "      <td>Says the Southwest Florida Water Management Di...</td>\n",
       "      <td>0</td>\n",
       "    </tr>\n",
       "    <tr>\n",
       "      <th>3</th>\n",
       "      <td>\"The Congressional Budget Office has this econ...</td>\n",
       "      <td>1</td>\n",
       "    </tr>\n",
       "    <tr>\n",
       "      <th>4</th>\n",
       "      <td>Says the Treasury Department \"says 41 percent ...</td>\n",
       "      <td>0</td>\n",
       "    </tr>\n",
       "  </tbody>\n",
       "</table>\n",
       "</div>"
      ],
      "text/plain": [
       "                                           statement  label_fnn\n",
       "0  A national organization says Georgia has one o...          0\n",
       "1  Says Barack Obama's health care law \"will be t...          0\n",
       "2  Says the Southwest Florida Water Management Di...          0\n",
       "3  \"The Congressional Budget Office has this econ...          1\n",
       "4  Says the Treasury Department \"says 41 percent ...          0"
      ]
     },
     "execution_count": 106,
     "metadata": {},
     "output_type": "execute_result"
    }
   ],
   "source": [
    "#Menampilkan beberapa data pertama pada data test yang labelnya sudah ditransformasi\n",
    "data_train.head()"
   ]
  },
  {
   "cell_type": "code",
   "execution_count": 107,
   "metadata": {},
   "outputs": [
    {
     "data": {
      "text/html": [
       "<div>\n",
       "<style scoped>\n",
       "    .dataframe tbody tr th:only-of-type {\n",
       "        vertical-align: middle;\n",
       "    }\n",
       "\n",
       "    .dataframe tbody tr th {\n",
       "        vertical-align: top;\n",
       "    }\n",
       "\n",
       "    .dataframe thead th {\n",
       "        text-align: right;\n",
       "    }\n",
       "</style>\n",
       "<table border=\"1\" class=\"dataframe\">\n",
       "  <thead>\n",
       "    <tr style=\"text-align: right;\">\n",
       "      <th></th>\n",
       "      <th>statement</th>\n",
       "      <th>label_fnn</th>\n",
       "    </tr>\n",
       "  </thead>\n",
       "  <tbody>\n",
       "    <tr>\n",
       "      <th>0</th>\n",
       "      <td>\"President Obama himself attempted to filibust...</td>\n",
       "      <td>1</td>\n",
       "    </tr>\n",
       "    <tr>\n",
       "      <th>1</th>\n",
       "      <td>In Hawaii, \"they don't have a history of throw...</td>\n",
       "      <td>1</td>\n",
       "    </tr>\n",
       "    <tr>\n",
       "      <th>2</th>\n",
       "      <td>\"Our national debt ... is on track to exceed t...</td>\n",
       "      <td>1</td>\n",
       "    </tr>\n",
       "    <tr>\n",
       "      <th>3</th>\n",
       "      <td>\"Health insurance companies' costs are only 4 ...</td>\n",
       "      <td>1</td>\n",
       "    </tr>\n",
       "    <tr>\n",
       "      <th>4</th>\n",
       "      <td>\"We can prevent terror suspects from boarding ...</td>\n",
       "      <td>1</td>\n",
       "    </tr>\n",
       "  </tbody>\n",
       "</table>\n",
       "</div>"
      ],
      "text/plain": [
       "                                           statement  label_fnn\n",
       "0  \"President Obama himself attempted to filibust...          1\n",
       "1  In Hawaii, \"they don't have a history of throw...          1\n",
       "2  \"Our national debt ... is on track to exceed t...          1\n",
       "3  \"Health insurance companies' costs are only 4 ...          1\n",
       "4  \"We can prevent terror suspects from boarding ...          1"
      ]
     },
     "execution_count": 107,
     "metadata": {},
     "output_type": "execute_result"
    }
   ],
   "source": [
    "#Menampilkan beberapa data pertama pada data test yang labelnya sudah ditransformasi\n",
    "data_test.head()"
   ]
  },
  {
   "cell_type": "code",
   "execution_count": 108,
   "metadata": {},
   "outputs": [],
   "source": [
    "# punctuation removal\n",
    "data_train[\"statement\"] = data_train['statement'].str.replace(r'[^\\w\\s]+', '')\n",
    "data_test[\"statement\"] = data_test['statement'].str.replace(r'[^\\w\\s]+', '')"
   ]
  },
  {
   "cell_type": "code",
   "execution_count": 109,
   "metadata": {},
   "outputs": [
    {
     "name": "stderr",
     "output_type": "stream",
     "text": [
      "[nltk_data] Downloading package punkt to\n",
      "[nltk_data]     C:\\Users\\Melani\\AppData\\Roaming\\nltk_data...\n",
      "[nltk_data]   Package punkt is already up-to-date!\n"
     ]
    }
   ],
   "source": [
    "#tokenization\n",
    "import nltk\n",
    "nltk.download('punkt')\n",
    "from nltk.tokenize import WhitespaceTokenizer"
   ]
  },
  {
   "cell_type": "code",
   "execution_count": 110,
   "metadata": {},
   "outputs": [],
   "source": [
    "#Tokenisasi\n",
    "data_train['statement']= data_train['statement'].apply(nltk.tokenize.WhitespaceTokenizer().tokenize)\n",
    "data_test['statement']= data_test['statement'].apply(nltk.tokenize.WhitespaceTokenizer().tokenize)\n"
   ]
  },
  {
   "cell_type": "code",
   "execution_count": 111,
   "metadata": {},
   "outputs": [
    {
     "data": {
      "text/html": [
       "<div>\n",
       "<style scoped>\n",
       "    .dataframe tbody tr th:only-of-type {\n",
       "        vertical-align: middle;\n",
       "    }\n",
       "\n",
       "    .dataframe tbody tr th {\n",
       "        vertical-align: top;\n",
       "    }\n",
       "\n",
       "    .dataframe thead th {\n",
       "        text-align: right;\n",
       "    }\n",
       "</style>\n",
       "<table border=\"1\" class=\"dataframe\">\n",
       "  <thead>\n",
       "    <tr style=\"text-align: right;\">\n",
       "      <th></th>\n",
       "      <th>statement</th>\n",
       "      <th>label_fnn</th>\n",
       "    </tr>\n",
       "  </thead>\n",
       "  <tbody>\n",
       "    <tr>\n",
       "      <th>0</th>\n",
       "      <td>[A, national, organization, says, Georgia, has...</td>\n",
       "      <td>0</td>\n",
       "    </tr>\n",
       "    <tr>\n",
       "      <th>1</th>\n",
       "      <td>[Says, Barack, Obamas, health, care, law, will...</td>\n",
       "      <td>0</td>\n",
       "    </tr>\n",
       "    <tr>\n",
       "      <th>2</th>\n",
       "      <td>[Says, the, Southwest, Florida, Water, Managem...</td>\n",
       "      <td>0</td>\n",
       "    </tr>\n",
       "    <tr>\n",
       "      <th>3</th>\n",
       "      <td>[The, Congressional, Budget, Office, has, this...</td>\n",
       "      <td>1</td>\n",
       "    </tr>\n",
       "    <tr>\n",
       "      <th>4</th>\n",
       "      <td>[Says, the, Treasury, Department, says, 41, pe...</td>\n",
       "      <td>0</td>\n",
       "    </tr>\n",
       "  </tbody>\n",
       "</table>\n",
       "</div>"
      ],
      "text/plain": [
       "                                           statement  label_fnn\n",
       "0  [A, national, organization, says, Georgia, has...          0\n",
       "1  [Says, Barack, Obamas, health, care, law, will...          0\n",
       "2  [Says, the, Southwest, Florida, Water, Managem...          0\n",
       "3  [The, Congressional, Budget, Office, has, this...          1\n",
       "4  [Says, the, Treasury, Department, says, 41, pe...          0"
      ]
     },
     "execution_count": 111,
     "metadata": {},
     "output_type": "execute_result"
    }
   ],
   "source": [
    "data_train.head()"
   ]
  },
  {
   "cell_type": "code",
   "execution_count": 112,
   "metadata": {},
   "outputs": [
    {
     "data": {
      "text/html": [
       "<div>\n",
       "<style scoped>\n",
       "    .dataframe tbody tr th:only-of-type {\n",
       "        vertical-align: middle;\n",
       "    }\n",
       "\n",
       "    .dataframe tbody tr th {\n",
       "        vertical-align: top;\n",
       "    }\n",
       "\n",
       "    .dataframe thead th {\n",
       "        text-align: right;\n",
       "    }\n",
       "</style>\n",
       "<table border=\"1\" class=\"dataframe\">\n",
       "  <thead>\n",
       "    <tr style=\"text-align: right;\">\n",
       "      <th></th>\n",
       "      <th>statement</th>\n",
       "      <th>label_fnn</th>\n",
       "    </tr>\n",
       "  </thead>\n",
       "  <tbody>\n",
       "    <tr>\n",
       "      <th>0</th>\n",
       "      <td>[President, Obama, himself, attempted, to, fil...</td>\n",
       "      <td>1</td>\n",
       "    </tr>\n",
       "    <tr>\n",
       "      <th>1</th>\n",
       "      <td>[In, Hawaii, they, dont, have, a, history, of,...</td>\n",
       "      <td>1</td>\n",
       "    </tr>\n",
       "    <tr>\n",
       "      <th>2</th>\n",
       "      <td>[Our, national, debt, is, on, track, to, excee...</td>\n",
       "      <td>1</td>\n",
       "    </tr>\n",
       "    <tr>\n",
       "      <th>3</th>\n",
       "      <td>[Health, insurance, companies, costs, are, onl...</td>\n",
       "      <td>1</td>\n",
       "    </tr>\n",
       "    <tr>\n",
       "      <th>4</th>\n",
       "      <td>[We, can, prevent, terror, suspects, from, boa...</td>\n",
       "      <td>1</td>\n",
       "    </tr>\n",
       "  </tbody>\n",
       "</table>\n",
       "</div>"
      ],
      "text/plain": [
       "                                           statement  label_fnn\n",
       "0  [President, Obama, himself, attempted, to, fil...          1\n",
       "1  [In, Hawaii, they, dont, have, a, history, of,...          1\n",
       "2  [Our, national, debt, is, on, track, to, excee...          1\n",
       "3  [Health, insurance, companies, costs, are, onl...          1\n",
       "4  [We, can, prevent, terror, suspects, from, boa...          1"
      ]
     },
     "execution_count": 112,
     "metadata": {},
     "output_type": "execute_result"
    }
   ],
   "source": [
    "data_test.head()"
   ]
  },
  {
   "cell_type": "code",
   "execution_count": 113,
   "metadata": {},
   "outputs": [
    {
     "name": "stderr",
     "output_type": "stream",
     "text": [
      "[nltk_data] Downloading package stopwords to\n",
      "[nltk_data]     C:\\Users\\Melani\\AppData\\Roaming\\nltk_data...\n",
      "[nltk_data]   Package stopwords is already up-to-date!\n"
     ]
    }
   ],
   "source": [
    "#stopword removal\n",
    "nltk.download('stopwords')\n",
    "from nltk.corpus import stopwords\n",
    "stop=set(stopwords.words('english'))"
   ]
  },
  {
   "cell_type": "code",
   "execution_count": 114,
   "metadata": {},
   "outputs": [],
   "source": [
    "#implementasi stopword removal\n",
    "stop = stopwords.words('english')\n",
    "data_train['statement'] = data_train['statement'].apply(lambda x: [item for item in x if item not in stop])\n",
    "data_test['statement'] = data_test['statement'].apply(lambda x: [item for item in x if item not in stop])"
   ]
  },
  {
   "cell_type": "code",
   "execution_count": 115,
   "metadata": {},
   "outputs": [
    {
     "data": {
      "text/html": [
       "<div>\n",
       "<style scoped>\n",
       "    .dataframe tbody tr th:only-of-type {\n",
       "        vertical-align: middle;\n",
       "    }\n",
       "\n",
       "    .dataframe tbody tr th {\n",
       "        vertical-align: top;\n",
       "    }\n",
       "\n",
       "    .dataframe thead th {\n",
       "        text-align: right;\n",
       "    }\n",
       "</style>\n",
       "<table border=\"1\" class=\"dataframe\">\n",
       "  <thead>\n",
       "    <tr style=\"text-align: right;\">\n",
       "      <th></th>\n",
       "      <th>statement</th>\n",
       "      <th>label_fnn</th>\n",
       "    </tr>\n",
       "  </thead>\n",
       "  <tbody>\n",
       "    <tr>\n",
       "      <th>0</th>\n",
       "      <td>[A, national, organization, says, Georgia, one...</td>\n",
       "      <td>0</td>\n",
       "    </tr>\n",
       "    <tr>\n",
       "      <th>1</th>\n",
       "      <td>[Says, Barack, Obamas, health, care, law, bigg...</td>\n",
       "      <td>0</td>\n",
       "    </tr>\n",
       "    <tr>\n",
       "      <th>2</th>\n",
       "      <td>[Says, Southwest, Florida, Water, Management, ...</td>\n",
       "      <td>0</td>\n",
       "    </tr>\n",
       "    <tr>\n",
       "      <th>3</th>\n",
       "      <td>[The, Congressional, Budget, Office, economic,...</td>\n",
       "      <td>1</td>\n",
       "    </tr>\n",
       "    <tr>\n",
       "      <th>4</th>\n",
       "      <td>[Says, Treasury, Department, says, 41, percent...</td>\n",
       "      <td>0</td>\n",
       "    </tr>\n",
       "  </tbody>\n",
       "</table>\n",
       "</div>"
      ],
      "text/plain": [
       "                                           statement  label_fnn\n",
       "0  [A, national, organization, says, Georgia, one...          0\n",
       "1  [Says, Barack, Obamas, health, care, law, bigg...          0\n",
       "2  [Says, Southwest, Florida, Water, Management, ...          0\n",
       "3  [The, Congressional, Budget, Office, economic,...          1\n",
       "4  [Says, Treasury, Department, says, 41, percent...          0"
      ]
     },
     "execution_count": 115,
     "metadata": {},
     "output_type": "execute_result"
    }
   ],
   "source": [
    "#menampilkan data train setelah dilakukan stopword removal\n",
    "data_train.head()"
   ]
  },
  {
   "cell_type": "code",
   "execution_count": 116,
   "metadata": {},
   "outputs": [
    {
     "data": {
      "text/html": [
       "<div>\n",
       "<style scoped>\n",
       "    .dataframe tbody tr th:only-of-type {\n",
       "        vertical-align: middle;\n",
       "    }\n",
       "\n",
       "    .dataframe tbody tr th {\n",
       "        vertical-align: top;\n",
       "    }\n",
       "\n",
       "    .dataframe thead th {\n",
       "        text-align: right;\n",
       "    }\n",
       "</style>\n",
       "<table border=\"1\" class=\"dataframe\">\n",
       "  <thead>\n",
       "    <tr style=\"text-align: right;\">\n",
       "      <th></th>\n",
       "      <th>statement</th>\n",
       "      <th>label_fnn</th>\n",
       "    </tr>\n",
       "  </thead>\n",
       "  <tbody>\n",
       "    <tr>\n",
       "      <th>0</th>\n",
       "      <td>[President, Obama, attempted, filibuster, Just...</td>\n",
       "      <td>1</td>\n",
       "    </tr>\n",
       "    <tr>\n",
       "      <th>1</th>\n",
       "      <td>[In, Hawaii, dont, history, throwing, incumben...</td>\n",
       "      <td>1</td>\n",
       "    </tr>\n",
       "    <tr>\n",
       "      <th>2</th>\n",
       "      <td>[Our, national, debt, track, exceed, size, ent...</td>\n",
       "      <td>1</td>\n",
       "    </tr>\n",
       "    <tr>\n",
       "      <th>3</th>\n",
       "      <td>[Health, insurance, companies, costs, 4, perce...</td>\n",
       "      <td>1</td>\n",
       "    </tr>\n",
       "    <tr>\n",
       "      <th>4</th>\n",
       "      <td>[We, prevent, terror, suspects, boarding, airp...</td>\n",
       "      <td>1</td>\n",
       "    </tr>\n",
       "  </tbody>\n",
       "</table>\n",
       "</div>"
      ],
      "text/plain": [
       "                                           statement  label_fnn\n",
       "0  [President, Obama, attempted, filibuster, Just...          1\n",
       "1  [In, Hawaii, dont, history, throwing, incumben...          1\n",
       "2  [Our, national, debt, track, exceed, size, ent...          1\n",
       "3  [Health, insurance, companies, costs, 4, perce...          1\n",
       "4  [We, prevent, terror, suspects, boarding, airp...          1"
      ]
     },
     "execution_count": 116,
     "metadata": {},
     "output_type": "execute_result"
    }
   ],
   "source": [
    "#menampilkan data test setelah dilakukan stopword removal\n",
    "data_test.head()"
   ]
  },
  {
   "cell_type": "code",
   "execution_count": 117,
   "metadata": {},
   "outputs": [
    {
     "name": "stderr",
     "output_type": "stream",
     "text": [
      "[nltk_data] Downloading package wordnet to\n",
      "[nltk_data]     C:\\Users\\Melani\\AppData\\Roaming\\nltk_data...\n",
      "[nltk_data]   Package wordnet is already up-to-date!\n"
     ]
    }
   ],
   "source": [
    "#Lematisasi\n",
    "nltk.download('wordnet')\n",
    "from nltk.stem.wordnet import WordNetLemmatizer\n",
    "def lema_words(text):\n",
    "  wnl=WordNetLemmatizer()\n",
    "  return[wnl.lemmatize(w) for w in text]\n",
    "\n"
   ]
  },
  {
   "cell_type": "code",
   "execution_count": 118,
   "metadata": {},
   "outputs": [],
   "source": [
    "lemmatizer = WordNetLemmatizer()\n",
    "\n",
    "data_train['statement'] = data_train['statement'].apply(lambda x: [lemmatizer.lemmatize(y) for y in x])\n",
    "data_test['statement'] = data_test['statement'].apply(lambda x: [lemmatizer.lemmatize(y) for y in x])"
   ]
  },
  {
   "cell_type": "code",
   "execution_count": 119,
   "metadata": {},
   "outputs": [
    {
     "data": {
      "text/html": [
       "<div>\n",
       "<style scoped>\n",
       "    .dataframe tbody tr th:only-of-type {\n",
       "        vertical-align: middle;\n",
       "    }\n",
       "\n",
       "    .dataframe tbody tr th {\n",
       "        vertical-align: top;\n",
       "    }\n",
       "\n",
       "    .dataframe thead th {\n",
       "        text-align: right;\n",
       "    }\n",
       "</style>\n",
       "<table border=\"1\" class=\"dataframe\">\n",
       "  <thead>\n",
       "    <tr style=\"text-align: right;\">\n",
       "      <th></th>\n",
       "      <th>statement</th>\n",
       "      <th>label_fnn</th>\n",
       "    </tr>\n",
       "  </thead>\n",
       "  <tbody>\n",
       "    <tr>\n",
       "      <th>0</th>\n",
       "      <td>[A, national, organization, say, Georgia, one,...</td>\n",
       "      <td>0</td>\n",
       "    </tr>\n",
       "    <tr>\n",
       "      <th>1</th>\n",
       "      <td>[Says, Barack, Obamas, health, care, law, bigg...</td>\n",
       "      <td>0</td>\n",
       "    </tr>\n",
       "    <tr>\n",
       "      <th>2</th>\n",
       "      <td>[Says, Southwest, Florida, Water, Management, ...</td>\n",
       "      <td>0</td>\n",
       "    </tr>\n",
       "    <tr>\n",
       "      <th>3</th>\n",
       "      <td>[The, Congressional, Budget, Office, economic,...</td>\n",
       "      <td>1</td>\n",
       "    </tr>\n",
       "    <tr>\n",
       "      <th>4</th>\n",
       "      <td>[Says, Treasury, Department, say, 41, percent,...</td>\n",
       "      <td>0</td>\n",
       "    </tr>\n",
       "  </tbody>\n",
       "</table>\n",
       "</div>"
      ],
      "text/plain": [
       "                                           statement  label_fnn\n",
       "0  [A, national, organization, say, Georgia, one,...          0\n",
       "1  [Says, Barack, Obamas, health, care, law, bigg...          0\n",
       "2  [Says, Southwest, Florida, Water, Management, ...          0\n",
       "3  [The, Congressional, Budget, Office, economic,...          1\n",
       "4  [Says, Treasury, Department, say, 41, percent,...          0"
      ]
     },
     "execution_count": 119,
     "metadata": {},
     "output_type": "execute_result"
    }
   ],
   "source": [
    "#menampilkan data train setelah dilakukan lemmatisasi\n",
    "data_train.head()"
   ]
  },
  {
   "cell_type": "code",
   "execution_count": 120,
   "metadata": {},
   "outputs": [
    {
     "data": {
      "text/html": [
       "<div>\n",
       "<style scoped>\n",
       "    .dataframe tbody tr th:only-of-type {\n",
       "        vertical-align: middle;\n",
       "    }\n",
       "\n",
       "    .dataframe tbody tr th {\n",
       "        vertical-align: top;\n",
       "    }\n",
       "\n",
       "    .dataframe thead th {\n",
       "        text-align: right;\n",
       "    }\n",
       "</style>\n",
       "<table border=\"1\" class=\"dataframe\">\n",
       "  <thead>\n",
       "    <tr style=\"text-align: right;\">\n",
       "      <th></th>\n",
       "      <th>statement</th>\n",
       "      <th>label_fnn</th>\n",
       "    </tr>\n",
       "  </thead>\n",
       "  <tbody>\n",
       "    <tr>\n",
       "      <th>0</th>\n",
       "      <td>[President, Obama, attempted, filibuster, Just...</td>\n",
       "      <td>1</td>\n",
       "    </tr>\n",
       "    <tr>\n",
       "      <th>1</th>\n",
       "      <td>[In, Hawaii, dont, history, throwing, incumben...</td>\n",
       "      <td>1</td>\n",
       "    </tr>\n",
       "    <tr>\n",
       "      <th>2</th>\n",
       "      <td>[Our, national, debt, track, exceed, size, ent...</td>\n",
       "      <td>1</td>\n",
       "    </tr>\n",
       "    <tr>\n",
       "      <th>3</th>\n",
       "      <td>[Health, insurance, company, cost, 4, percent,...</td>\n",
       "      <td>1</td>\n",
       "    </tr>\n",
       "    <tr>\n",
       "      <th>4</th>\n",
       "      <td>[We, prevent, terror, suspect, boarding, airpl...</td>\n",
       "      <td>1</td>\n",
       "    </tr>\n",
       "  </tbody>\n",
       "</table>\n",
       "</div>"
      ],
      "text/plain": [
       "                                           statement  label_fnn\n",
       "0  [President, Obama, attempted, filibuster, Just...          1\n",
       "1  [In, Hawaii, dont, history, throwing, incumben...          1\n",
       "2  [Our, national, debt, track, exceed, size, ent...          1\n",
       "3  [Health, insurance, company, cost, 4, percent,...          1\n",
       "4  [We, prevent, terror, suspect, boarding, airpl...          1"
      ]
     },
     "execution_count": 120,
     "metadata": {},
     "output_type": "execute_result"
    }
   ],
   "source": [
    "#menampilkan data test setelah dilakukan lemmatisasi\n",
    "data_test.head()"
   ]
  },
  {
   "cell_type": "code",
   "execution_count": 131,
   "metadata": {},
   "outputs": [],
   "source": [
    "# skipgram - word2vec- CBOW\n",
    "import numpy as np\n",
    "from gensim.models import Word2Vec\n",
    "w2v_model = Word2Vec(data_train['statement'], size=100, sg=1)"
   ]
  },
  {
   "cell_type": "code",
   "execution_count": 132,
   "metadata": {},
   "outputs": [],
   "source": [
    "# mendefenisikan fungsi untuk membuat averaged sentence vector dari list of sentence tokens\n",
    "def buildWordVector(tokens, size):\n",
    "    vec = np.zeros(size).reshape((1, size))\n",
    "    count = 0.\n",
    "    for word in tokens:\n",
    "        try:\n",
    "            # jumlahkan\n",
    "            vec += w2v_model.wv.__getitem__(word).reshape((1, size))\n",
    "            count += 1.\n",
    "        except KeyError: # handling the case where the token is not\n",
    "                         # in the corpus. useful for testing.\n",
    "            continue\n",
    "    # bagikan dengan total word dalam sentence\n",
    "    if count != 0:\n",
    "        vec /= count\n",
    "    return vec\n",
    "\n",
    "# konversi data_train['text'] dan data_test['text'] ke dalam list of vectors\n",
    "X_train_w2v = np.concatenate([buildWordVector(z, 100) for z in map(lambda x: x, data_train['statement'])])\n"
   ]
  },
  {
   "cell_type": "code",
   "execution_count": 133,
   "metadata": {},
   "outputs": [
    {
     "data": {
      "text/plain": [
       "4550"
      ]
     },
     "execution_count": 133,
     "metadata": {},
     "output_type": "execute_result"
    }
   ],
   "source": [
    "#vocab size\n",
    "len(w2v_model.wv.vocab)"
   ]
  },
  {
   "cell_type": "code",
   "execution_count": null,
   "metadata": {},
   "outputs": [],
   "source": []
  }
 ],
 "metadata": {
  "kernelspec": {
   "display_name": "Python 3",
   "language": "python",
   "name": "python3"
  },
  "language_info": {
   "codemirror_mode": {
    "name": "ipython",
    "version": 3
   },
   "file_extension": ".py",
   "mimetype": "text/x-python",
   "name": "python",
   "nbconvert_exporter": "python",
   "pygments_lexer": "ipython3",
   "version": "3.6.5"
  }
 },
 "nbformat": 4,
 "nbformat_minor": 2
}
